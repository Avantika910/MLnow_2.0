{
  "nbformat": 4,
  "nbformat_minor": 0,
  "metadata": {
    "colab": {
      "name": "Copy of 3.1_Univariate.ipynb",
      "provenance": [],
      "collapsed_sections": [
        "Klm33YcpKZkl"
      ],
      "include_colab_link": true
    },
    "kernelspec": {
      "name": "python3",
      "display_name": "Python 3"
    }
  },
  "cells": [
    {
      "cell_type": "markdown",
      "metadata": {
        "id": "view-in-github",
        "colab_type": "text"
      },
      "source": [
        "<a href=\"https://colab.research.google.com/github/Avantika910/MLnow_2.0/blob/main/Copy_of_3_1_Univariate.ipynb\" target=\"_parent\"><img src=\"https://colab.research.google.com/assets/colab-badge.svg\" alt=\"Open In Colab\"/></a>"
      ]
    },
    {
      "cell_type": "markdown",
      "metadata": {
        "id": "q_569ugy6lyY"
      },
      "source": [
        "[Link to Download the dataset](https://archive.ics.uci.edu/ml/datasets/Student+Performance)\n",
        "\n",
        "**Date Created**: 13 June , 2021\n",
        "\n",
        "Topic: Univariate Linear Regression\n",
        "\n",
        "**Author**:\n",
        " Avantika Goyal\n",
        "\n",
        "[[Assessment Repository](https://github.com/Avantika910/MLnow_2.0)]"
      ]
    },
    {
      "cell_type": "markdown",
      "metadata": {
        "id": "KmW9S6zjaauQ"
      },
      "source": [
        "## Setup"
      ]
    },
    {
      "cell_type": "code",
      "metadata": {
        "colab": {
          "base_uri": "https://localhost:8080/"
        },
        "id": "oX_QibhWsnnX",
        "outputId": "7d3a4fba-d7d5-45de-c334-47548718877e"
      },
      "source": [
        "from google.colab import drive\n",
        "drive.mount('/content/drive')"
      ],
      "execution_count": null,
      "outputs": [
        {
          "output_type": "stream",
          "text": [
            "Drive already mounted at /content/drive; to attempt to forcibly remount, call drive.mount(\"/content/drive\", force_remount=True).\n"
          ],
          "name": "stdout"
        }
      ]
    },
    {
      "cell_type": "code",
      "metadata": {
        "colab": {
          "base_uri": "https://localhost:8080/"
        },
        "id": "wYuNn17Isvml",
        "outputId": "6057e92f-3a04-4ba1-ed95-15f309559c14"
      },
      "source": [
        "cd '/content/drive/MyDrive/ml/01_EDA/student'"
      ],
      "execution_count": null,
      "outputs": [
        {
          "output_type": "stream",
          "text": [
            "/content/drive/MyDrive/ml/01_EDA/student\n"
          ],
          "name": "stdout"
        }
      ]
    },
    {
      "cell_type": "code",
      "metadata": {
        "colab": {
          "base_uri": "https://localhost:8080/"
        },
        "id": "oR69jwALs-uP",
        "outputId": "e1c9f145-65b9-4fce-b549-987b6c1f09c7"
      },
      "source": [
        "ls"
      ],
      "execution_count": null,
      "outputs": [
        {
          "output_type": "stream",
          "text": [
            "student-mat.csv     student-merge.R  student.txt\n",
            "student-mat.gsheet  student-por.csv  univariate_MathData_2.csv\n"
          ],
          "name": "stdout"
        }
      ]
    },
    {
      "cell_type": "code",
      "metadata": {
        "id": "0rYwvbeMtPJg"
      },
      "source": [
        "import os"
      ],
      "execution_count": null,
      "outputs": []
    },
    {
      "cell_type": "code",
      "metadata": {
        "id": "cnGQRbmes_tZ"
      },
      "source": [
        "import pandas as pd #working with csv or excel files\n",
        "import numpy as np #working with numbers/ arrays/ tensors\n",
        "import tensorflow as tf #framework\n",
        "from tensorflow import keras #API / library \n",
        "import os #using os commands between the python language"
      ],
      "execution_count": null,
      "outputs": []
    },
    {
      "cell_type": "code",
      "metadata": {
        "id": "VV-Ps6dJtX6B"
      },
      "source": [
        "mathData = pd.read_csv('student-mat.csv', sep=';') #load the csv file as dataframe"
      ],
      "execution_count": null,
      "outputs": []
    },
    {
      "cell_type": "code",
      "metadata": {
        "colab": {
          "base_uri": "https://localhost:8080/",
          "height": 377
        },
        "id": "2_KId_bptr05",
        "outputId": "c3e467c7-cbeb-44f6-d1dc-71ec62f2433f"
      },
      "source": [
        "mathData.head(10) #print the first ten rows of the dataframe"
      ],
      "execution_count": null,
      "outputs": [
        {
          "output_type": "execute_result",
          "data": {
            "text/html": [
              "<div>\n",
              "<style scoped>\n",
              "    .dataframe tbody tr th:only-of-type {\n",
              "        vertical-align: middle;\n",
              "    }\n",
              "\n",
              "    .dataframe tbody tr th {\n",
              "        vertical-align: top;\n",
              "    }\n",
              "\n",
              "    .dataframe thead th {\n",
              "        text-align: right;\n",
              "    }\n",
              "</style>\n",
              "<table border=\"1\" class=\"dataframe\">\n",
              "  <thead>\n",
              "    <tr style=\"text-align: right;\">\n",
              "      <th></th>\n",
              "      <th>school</th>\n",
              "      <th>sex</th>\n",
              "      <th>age</th>\n",
              "      <th>address</th>\n",
              "      <th>famsize</th>\n",
              "      <th>Pstatus</th>\n",
              "      <th>Medu</th>\n",
              "      <th>Fedu</th>\n",
              "      <th>Mjob</th>\n",
              "      <th>Fjob</th>\n",
              "      <th>reason</th>\n",
              "      <th>guardian</th>\n",
              "      <th>traveltime</th>\n",
              "      <th>studytime</th>\n",
              "      <th>failures</th>\n",
              "      <th>schoolsup</th>\n",
              "      <th>famsup</th>\n",
              "      <th>paid</th>\n",
              "      <th>activities</th>\n",
              "      <th>nursery</th>\n",
              "      <th>higher</th>\n",
              "      <th>internet</th>\n",
              "      <th>romantic</th>\n",
              "      <th>famrel</th>\n",
              "      <th>freetime</th>\n",
              "      <th>goout</th>\n",
              "      <th>Dalc</th>\n",
              "      <th>Walc</th>\n",
              "      <th>health</th>\n",
              "      <th>absences</th>\n",
              "      <th>G1</th>\n",
              "      <th>G2</th>\n",
              "      <th>G3</th>\n",
              "    </tr>\n",
              "  </thead>\n",
              "  <tbody>\n",
              "    <tr>\n",
              "      <th>0</th>\n",
              "      <td>GP</td>\n",
              "      <td>F</td>\n",
              "      <td>18</td>\n",
              "      <td>U</td>\n",
              "      <td>GT3</td>\n",
              "      <td>A</td>\n",
              "      <td>4</td>\n",
              "      <td>4</td>\n",
              "      <td>at_home</td>\n",
              "      <td>teacher</td>\n",
              "      <td>course</td>\n",
              "      <td>mother</td>\n",
              "      <td>2</td>\n",
              "      <td>2</td>\n",
              "      <td>0</td>\n",
              "      <td>yes</td>\n",
              "      <td>no</td>\n",
              "      <td>no</td>\n",
              "      <td>no</td>\n",
              "      <td>yes</td>\n",
              "      <td>yes</td>\n",
              "      <td>no</td>\n",
              "      <td>no</td>\n",
              "      <td>4</td>\n",
              "      <td>3</td>\n",
              "      <td>4</td>\n",
              "      <td>1</td>\n",
              "      <td>1</td>\n",
              "      <td>3</td>\n",
              "      <td>6</td>\n",
              "      <td>5</td>\n",
              "      <td>6</td>\n",
              "      <td>6</td>\n",
              "    </tr>\n",
              "    <tr>\n",
              "      <th>1</th>\n",
              "      <td>GP</td>\n",
              "      <td>F</td>\n",
              "      <td>17</td>\n",
              "      <td>U</td>\n",
              "      <td>GT3</td>\n",
              "      <td>T</td>\n",
              "      <td>1</td>\n",
              "      <td>1</td>\n",
              "      <td>at_home</td>\n",
              "      <td>other</td>\n",
              "      <td>course</td>\n",
              "      <td>father</td>\n",
              "      <td>1</td>\n",
              "      <td>2</td>\n",
              "      <td>0</td>\n",
              "      <td>no</td>\n",
              "      <td>yes</td>\n",
              "      <td>no</td>\n",
              "      <td>no</td>\n",
              "      <td>no</td>\n",
              "      <td>yes</td>\n",
              "      <td>yes</td>\n",
              "      <td>no</td>\n",
              "      <td>5</td>\n",
              "      <td>3</td>\n",
              "      <td>3</td>\n",
              "      <td>1</td>\n",
              "      <td>1</td>\n",
              "      <td>3</td>\n",
              "      <td>4</td>\n",
              "      <td>5</td>\n",
              "      <td>5</td>\n",
              "      <td>6</td>\n",
              "    </tr>\n",
              "    <tr>\n",
              "      <th>2</th>\n",
              "      <td>GP</td>\n",
              "      <td>F</td>\n",
              "      <td>15</td>\n",
              "      <td>U</td>\n",
              "      <td>LE3</td>\n",
              "      <td>T</td>\n",
              "      <td>1</td>\n",
              "      <td>1</td>\n",
              "      <td>at_home</td>\n",
              "      <td>other</td>\n",
              "      <td>other</td>\n",
              "      <td>mother</td>\n",
              "      <td>1</td>\n",
              "      <td>2</td>\n",
              "      <td>3</td>\n",
              "      <td>yes</td>\n",
              "      <td>no</td>\n",
              "      <td>yes</td>\n",
              "      <td>no</td>\n",
              "      <td>yes</td>\n",
              "      <td>yes</td>\n",
              "      <td>yes</td>\n",
              "      <td>no</td>\n",
              "      <td>4</td>\n",
              "      <td>3</td>\n",
              "      <td>2</td>\n",
              "      <td>2</td>\n",
              "      <td>3</td>\n",
              "      <td>3</td>\n",
              "      <td>10</td>\n",
              "      <td>7</td>\n",
              "      <td>8</td>\n",
              "      <td>10</td>\n",
              "    </tr>\n",
              "    <tr>\n",
              "      <th>3</th>\n",
              "      <td>GP</td>\n",
              "      <td>F</td>\n",
              "      <td>15</td>\n",
              "      <td>U</td>\n",
              "      <td>GT3</td>\n",
              "      <td>T</td>\n",
              "      <td>4</td>\n",
              "      <td>2</td>\n",
              "      <td>health</td>\n",
              "      <td>services</td>\n",
              "      <td>home</td>\n",
              "      <td>mother</td>\n",
              "      <td>1</td>\n",
              "      <td>3</td>\n",
              "      <td>0</td>\n",
              "      <td>no</td>\n",
              "      <td>yes</td>\n",
              "      <td>yes</td>\n",
              "      <td>yes</td>\n",
              "      <td>yes</td>\n",
              "      <td>yes</td>\n",
              "      <td>yes</td>\n",
              "      <td>yes</td>\n",
              "      <td>3</td>\n",
              "      <td>2</td>\n",
              "      <td>2</td>\n",
              "      <td>1</td>\n",
              "      <td>1</td>\n",
              "      <td>5</td>\n",
              "      <td>2</td>\n",
              "      <td>15</td>\n",
              "      <td>14</td>\n",
              "      <td>15</td>\n",
              "    </tr>\n",
              "    <tr>\n",
              "      <th>4</th>\n",
              "      <td>GP</td>\n",
              "      <td>F</td>\n",
              "      <td>16</td>\n",
              "      <td>U</td>\n",
              "      <td>GT3</td>\n",
              "      <td>T</td>\n",
              "      <td>3</td>\n",
              "      <td>3</td>\n",
              "      <td>other</td>\n",
              "      <td>other</td>\n",
              "      <td>home</td>\n",
              "      <td>father</td>\n",
              "      <td>1</td>\n",
              "      <td>2</td>\n",
              "      <td>0</td>\n",
              "      <td>no</td>\n",
              "      <td>yes</td>\n",
              "      <td>yes</td>\n",
              "      <td>no</td>\n",
              "      <td>yes</td>\n",
              "      <td>yes</td>\n",
              "      <td>no</td>\n",
              "      <td>no</td>\n",
              "      <td>4</td>\n",
              "      <td>3</td>\n",
              "      <td>2</td>\n",
              "      <td>1</td>\n",
              "      <td>2</td>\n",
              "      <td>5</td>\n",
              "      <td>4</td>\n",
              "      <td>6</td>\n",
              "      <td>10</td>\n",
              "      <td>10</td>\n",
              "    </tr>\n",
              "    <tr>\n",
              "      <th>5</th>\n",
              "      <td>GP</td>\n",
              "      <td>M</td>\n",
              "      <td>16</td>\n",
              "      <td>U</td>\n",
              "      <td>LE3</td>\n",
              "      <td>T</td>\n",
              "      <td>4</td>\n",
              "      <td>3</td>\n",
              "      <td>services</td>\n",
              "      <td>other</td>\n",
              "      <td>reputation</td>\n",
              "      <td>mother</td>\n",
              "      <td>1</td>\n",
              "      <td>2</td>\n",
              "      <td>0</td>\n",
              "      <td>no</td>\n",
              "      <td>yes</td>\n",
              "      <td>yes</td>\n",
              "      <td>yes</td>\n",
              "      <td>yes</td>\n",
              "      <td>yes</td>\n",
              "      <td>yes</td>\n",
              "      <td>no</td>\n",
              "      <td>5</td>\n",
              "      <td>4</td>\n",
              "      <td>2</td>\n",
              "      <td>1</td>\n",
              "      <td>2</td>\n",
              "      <td>5</td>\n",
              "      <td>10</td>\n",
              "      <td>15</td>\n",
              "      <td>15</td>\n",
              "      <td>15</td>\n",
              "    </tr>\n",
              "    <tr>\n",
              "      <th>6</th>\n",
              "      <td>GP</td>\n",
              "      <td>M</td>\n",
              "      <td>16</td>\n",
              "      <td>U</td>\n",
              "      <td>LE3</td>\n",
              "      <td>T</td>\n",
              "      <td>2</td>\n",
              "      <td>2</td>\n",
              "      <td>other</td>\n",
              "      <td>other</td>\n",
              "      <td>home</td>\n",
              "      <td>mother</td>\n",
              "      <td>1</td>\n",
              "      <td>2</td>\n",
              "      <td>0</td>\n",
              "      <td>no</td>\n",
              "      <td>no</td>\n",
              "      <td>no</td>\n",
              "      <td>no</td>\n",
              "      <td>yes</td>\n",
              "      <td>yes</td>\n",
              "      <td>yes</td>\n",
              "      <td>no</td>\n",
              "      <td>4</td>\n",
              "      <td>4</td>\n",
              "      <td>4</td>\n",
              "      <td>1</td>\n",
              "      <td>1</td>\n",
              "      <td>3</td>\n",
              "      <td>0</td>\n",
              "      <td>12</td>\n",
              "      <td>12</td>\n",
              "      <td>11</td>\n",
              "    </tr>\n",
              "    <tr>\n",
              "      <th>7</th>\n",
              "      <td>GP</td>\n",
              "      <td>F</td>\n",
              "      <td>17</td>\n",
              "      <td>U</td>\n",
              "      <td>GT3</td>\n",
              "      <td>A</td>\n",
              "      <td>4</td>\n",
              "      <td>4</td>\n",
              "      <td>other</td>\n",
              "      <td>teacher</td>\n",
              "      <td>home</td>\n",
              "      <td>mother</td>\n",
              "      <td>2</td>\n",
              "      <td>2</td>\n",
              "      <td>0</td>\n",
              "      <td>yes</td>\n",
              "      <td>yes</td>\n",
              "      <td>no</td>\n",
              "      <td>no</td>\n",
              "      <td>yes</td>\n",
              "      <td>yes</td>\n",
              "      <td>no</td>\n",
              "      <td>no</td>\n",
              "      <td>4</td>\n",
              "      <td>1</td>\n",
              "      <td>4</td>\n",
              "      <td>1</td>\n",
              "      <td>1</td>\n",
              "      <td>1</td>\n",
              "      <td>6</td>\n",
              "      <td>6</td>\n",
              "      <td>5</td>\n",
              "      <td>6</td>\n",
              "    </tr>\n",
              "    <tr>\n",
              "      <th>8</th>\n",
              "      <td>GP</td>\n",
              "      <td>M</td>\n",
              "      <td>15</td>\n",
              "      <td>U</td>\n",
              "      <td>LE3</td>\n",
              "      <td>A</td>\n",
              "      <td>3</td>\n",
              "      <td>2</td>\n",
              "      <td>services</td>\n",
              "      <td>other</td>\n",
              "      <td>home</td>\n",
              "      <td>mother</td>\n",
              "      <td>1</td>\n",
              "      <td>2</td>\n",
              "      <td>0</td>\n",
              "      <td>no</td>\n",
              "      <td>yes</td>\n",
              "      <td>yes</td>\n",
              "      <td>no</td>\n",
              "      <td>yes</td>\n",
              "      <td>yes</td>\n",
              "      <td>yes</td>\n",
              "      <td>no</td>\n",
              "      <td>4</td>\n",
              "      <td>2</td>\n",
              "      <td>2</td>\n",
              "      <td>1</td>\n",
              "      <td>1</td>\n",
              "      <td>1</td>\n",
              "      <td>0</td>\n",
              "      <td>16</td>\n",
              "      <td>18</td>\n",
              "      <td>19</td>\n",
              "    </tr>\n",
              "    <tr>\n",
              "      <th>9</th>\n",
              "      <td>GP</td>\n",
              "      <td>M</td>\n",
              "      <td>15</td>\n",
              "      <td>U</td>\n",
              "      <td>GT3</td>\n",
              "      <td>T</td>\n",
              "      <td>3</td>\n",
              "      <td>4</td>\n",
              "      <td>other</td>\n",
              "      <td>other</td>\n",
              "      <td>home</td>\n",
              "      <td>mother</td>\n",
              "      <td>1</td>\n",
              "      <td>2</td>\n",
              "      <td>0</td>\n",
              "      <td>no</td>\n",
              "      <td>yes</td>\n",
              "      <td>yes</td>\n",
              "      <td>yes</td>\n",
              "      <td>yes</td>\n",
              "      <td>yes</td>\n",
              "      <td>yes</td>\n",
              "      <td>no</td>\n",
              "      <td>5</td>\n",
              "      <td>5</td>\n",
              "      <td>1</td>\n",
              "      <td>1</td>\n",
              "      <td>1</td>\n",
              "      <td>5</td>\n",
              "      <td>0</td>\n",
              "      <td>14</td>\n",
              "      <td>15</td>\n",
              "      <td>15</td>\n",
              "    </tr>\n",
              "  </tbody>\n",
              "</table>\n",
              "</div>"
            ],
            "text/plain": [
              "  school sex  age address famsize Pstatus  ...  Walc  health absences  G1  G2  G3\n",
              "0     GP   F   18       U     GT3       A  ...     1       3        6   5   6   6\n",
              "1     GP   F   17       U     GT3       T  ...     1       3        4   5   5   6\n",
              "2     GP   F   15       U     LE3       T  ...     3       3       10   7   8  10\n",
              "3     GP   F   15       U     GT3       T  ...     1       5        2  15  14  15\n",
              "4     GP   F   16       U     GT3       T  ...     2       5        4   6  10  10\n",
              "5     GP   M   16       U     LE3       T  ...     2       5       10  15  15  15\n",
              "6     GP   M   16       U     LE3       T  ...     1       3        0  12  12  11\n",
              "7     GP   F   17       U     GT3       A  ...     1       1        6   6   5   6\n",
              "8     GP   M   15       U     LE3       A  ...     1       1        0  16  18  19\n",
              "9     GP   M   15       U     GT3       T  ...     1       5        0  14  15  15\n",
              "\n",
              "[10 rows x 33 columns]"
            ]
          },
          "metadata": {
            "tags": []
          },
          "execution_count": 109
        }
      ]
    },
    {
      "cell_type": "markdown",
      "metadata": {
        "id": "i2bal50yG_PZ"
      },
      "source": [
        "We are just going to consider the columns `G1` and `G3` for univariate linear regression\n",
        "\n",
        "$G3_i = G1_i  \\cdot \\theta_1 + \\theta_0$"
      ]
    },
    {
      "cell_type": "code",
      "metadata": {
        "colab": {
          "base_uri": "https://localhost:8080/",
          "height": 203
        },
        "id": "Yw0PNCuTSEDC",
        "outputId": "18115e2a-a9de-4359-90f1-3da59cdc16e4"
      },
      "source": [
        "uniMathData = mathData[['G1', 'G3']]\n",
        "uniMathData.head(5)"
      ],
      "execution_count": null,
      "outputs": [
        {
          "output_type": "execute_result",
          "data": {
            "text/html": [
              "<div>\n",
              "<style scoped>\n",
              "    .dataframe tbody tr th:only-of-type {\n",
              "        vertical-align: middle;\n",
              "    }\n",
              "\n",
              "    .dataframe tbody tr th {\n",
              "        vertical-align: top;\n",
              "    }\n",
              "\n",
              "    .dataframe thead th {\n",
              "        text-align: right;\n",
              "    }\n",
              "</style>\n",
              "<table border=\"1\" class=\"dataframe\">\n",
              "  <thead>\n",
              "    <tr style=\"text-align: right;\">\n",
              "      <th></th>\n",
              "      <th>G1</th>\n",
              "      <th>G3</th>\n",
              "    </tr>\n",
              "  </thead>\n",
              "  <tbody>\n",
              "    <tr>\n",
              "      <th>0</th>\n",
              "      <td>5</td>\n",
              "      <td>6</td>\n",
              "    </tr>\n",
              "    <tr>\n",
              "      <th>1</th>\n",
              "      <td>5</td>\n",
              "      <td>6</td>\n",
              "    </tr>\n",
              "    <tr>\n",
              "      <th>2</th>\n",
              "      <td>7</td>\n",
              "      <td>10</td>\n",
              "    </tr>\n",
              "    <tr>\n",
              "      <th>3</th>\n",
              "      <td>15</td>\n",
              "      <td>15</td>\n",
              "    </tr>\n",
              "    <tr>\n",
              "      <th>4</th>\n",
              "      <td>6</td>\n",
              "      <td>10</td>\n",
              "    </tr>\n",
              "  </tbody>\n",
              "</table>\n",
              "</div>"
            ],
            "text/plain": [
              "   G1  G3\n",
              "0   5   6\n",
              "1   5   6\n",
              "2   7  10\n",
              "3  15  15\n",
              "4   6  10"
            ]
          },
          "metadata": {
            "tags": []
          },
          "execution_count": 110
        }
      ]
    },
    {
      "cell_type": "code",
      "metadata": {
        "id": "eyzP9mL4Hmb5"
      },
      "source": [
        "uniMathData.to_csv('univariate_MathData_2.csv')"
      ],
      "execution_count": null,
      "outputs": []
    },
    {
      "cell_type": "code",
      "metadata": {
        "colab": {
          "base_uri": "https://localhost:8080/"
        },
        "id": "I-3qK_nNxnTA",
        "outputId": "51c84e44-cc64-49f6-99a8-ef5b9d3307a3"
      },
      "source": [
        "ls"
      ],
      "execution_count": null,
      "outputs": [
        {
          "output_type": "stream",
          "text": [
            "student-mat.csv     student-merge.R  student.txt\n",
            "student-mat.gsheet  student-por.csv  univariate_MathData_2.csv\n"
          ],
          "name": "stdout"
        }
      ]
    },
    {
      "cell_type": "markdown",
      "metadata": {
        "id": "ImV3p6AKxszU"
      },
      "source": [
        "## Data visualization"
      ]
    },
    {
      "cell_type": "code",
      "metadata": {
        "colab": {
          "base_uri": "https://localhost:8080/",
          "height": 153
        },
        "id": "RqumcsZLxq4v",
        "outputId": "09acbf0f-9b17-47a0-a5d6-c79d383a4e90"
      },
      "source": [
        "import seaborn as sns\n",
        "sns.palplot(sns.color_palette('PuOr')) #Purple to Orange colors\n",
        "pal = sns.color_palette('PuOr', 6) #print 6 color shades from Purple to Orange\n",
        "pal.as_hex() #set hex code values for colors\n",
        "\n",
        "import matplotlib.pyplot as plt\n",
        "plt.style.use(['seaborn'])\n",
        "sns_colors = ['#c6690c', '#664697'] #orange Purple hex codes\n",
        "sns.set_palette(sns_colors) #set the palette as sns_colors \n",
        "sns.palplot(sns.color_palette(sns_colors)) #plot the color codes"
      ],
      "execution_count": null,
      "outputs": [
        {
          "output_type": "display_data",
          "data": {
            "image/png": "[encoded data removed]",
            "text/plain": [
              "<Figure size 432x72 with 1 Axes>"
            ]
          },
          "metadata": {
            "tags": []
          }
        },
        {
          "output_type": "display_data",
          "data": {
            "image/png": "[encoded data removed]",
            "text/plain": [
              "<Figure size 144x72 with 1 Axes>"
            ]
          },
          "metadata": {
            "tags": []
          }
        }
      ]
    },
    {
      "cell_type": "code",
      "metadata": {
        "colab": {
          "base_uri": "https://localhost:8080/"
        },
        "id": "A6MT5E8Fy7MZ",
        "outputId": "1b4e73e6-cc1d-4092-f09f-c32f4aa3fa45"
      },
      "source": [
        "uniMathData.columns #columns in the dataframe"
      ],
      "execution_count": null,
      "outputs": [
        {
          "output_type": "execute_result",
          "data": {
            "text/plain": [
              "Index(['G1', 'G3'], dtype='object')"
            ]
          },
          "metadata": {
            "tags": []
          },
          "execution_count": 114
        }
      ]
    },
    {
      "cell_type": "code",
      "metadata": {
        "colab": {
          "base_uri": "https://localhost:8080/",
          "height": 391
        },
        "id": "PrsTwdHHzBbk",
        "outputId": "e2a4de9c-2f5a-496f-f8a2-24b669dc4811"
      },
      "source": [
        "#pairplot for all the values\n",
        "\n",
        "sns.pairplot(uniMathData,\n",
        "             x_vars = ['G1', 'G3'],\n",
        "             y_vars =  ['G1', 'G3'],\n",
        "       diag_kind='kde'\n",
        "             )"
      ],
      "execution_count": null,
      "outputs": [
        {
          "output_type": "execute_result",
          "data": {
            "text/plain": [
              "<seaborn.axisgrid.PairGrid at 0x7fb572ebcad0>"
            ]
          },
          "metadata": {
            "tags": []
          },
          "execution_count": 115
        },
        {
          "output_type": "display_data",
          "data": {
            "image/png": "[encoded data removed]",
            "text/plain": [
              "<Figure size 360x360 with 6 Axes>"
            ]
          },
          "metadata": {
            "tags": []
          }
        }
      ]
    },
    {
      "cell_type": "markdown",
      "metadata": {
        "id": "Klm33YcpKZkl"
      },
      "source": [
        "## Data Splits"
      ]
    },
    {
      "cell_type": "code",
      "metadata": {
        "colab": {
          "base_uri": "https://localhost:8080/"
        },
        "id": "UwrSOCKS1NhN",
        "outputId": "5441bab1-d94b-4c64-aab6-8184aa97e39b"
      },
      "source": [
        "#80-20 train-test percent split\n",
        "\n",
        "trainDataset = uniMathData.sample(frac=0.8, random_state=0) \n",
        "testDataset = uniMathData.drop(trainDataset.index)\n",
        "\n",
        "print(trainDataset.head())\n",
        "print(testDataset.head())"
      ],
      "execution_count": null,
      "outputs": [
        {
          "output_type": "stream",
          "text": [
            "     G1  G3\n",
            "329  14  14\n",
            "318  11  10\n",
            "317   9   9\n",
            "65   16  15\n",
            "59   15  16\n",
            "    G1  G3\n",
            "9   14  15\n",
            "25   6   8\n",
            "28  11  11\n",
            "31  17  17\n",
            "32  17  16\n"
          ],
          "name": "stdout"
        }
      ]
    },
    {
      "cell_type": "code",
      "metadata": {
        "colab": {
          "base_uri": "https://localhost:8080/"
        },
        "id": "YWO2xRV53wV-",
        "outputId": "fee34f08-5a6c-4e6e-eabe-e4d2c5e9536a"
      },
      "source": [
        "print(trainDataset.shape)\n",
        "print(testDataset.shape)"
      ],
      "execution_count": null,
      "outputs": [
        {
          "output_type": "stream",
          "text": [
            "(316, 2)\n",
            "(79, 2)\n"
          ],
          "name": "stdout"
        }
      ]
    },
    {
      "cell_type": "code",
      "metadata": {
        "colab": {
          "base_uri": "https://localhost:8080/"
        },
        "id": "OmDTbvMC32hg",
        "outputId": "d9e9a8b9-b6f3-43b6-f717-8d587646eeda"
      },
      "source": [
        "#copy the trainDataset dataframe for getting the features\n",
        "\n",
        "trainFeatures = trainDataset.copy()\n",
        "testFeatures = testDataset.copy()\n",
        "\n",
        "print(trainFeatures.head())\n",
        "print(testFeatures.head())"
      ],
      "execution_count": null,
      "outputs": [
        {
          "output_type": "stream",
          "text": [
            "     G1  G3\n",
            "329  14  14\n",
            "318  11  10\n",
            "317   9   9\n",
            "65   16  15\n",
            "59   15  16\n",
            "    G1  G3\n",
            "9   14  15\n",
            "25   6   8\n",
            "28  11  11\n",
            "31  17  17\n",
            "32  17  16\n"
          ],
          "name": "stdout"
        }
      ]
    },
    {
      "cell_type": "code",
      "metadata": {
        "colab": {
          "base_uri": "https://localhost:8080/"
        },
        "id": "jSR0_uni4ayh",
        "outputId": "b4e16bd9-13d6-4793-fd72-f2984a011f70"
      },
      "source": [
        "#removing the G3 column and saving it into the labels variable\n",
        "\n",
        "trainLabels = trainFeatures.pop('G3')\n",
        "testLabels = testFeatures.pop('G3')\n",
        "\n",
        "print(trainLabels.head())\n",
        "print(testLabels.head())"
      ],
      "execution_count": null,
      "outputs": [
        {
          "output_type": "stream",
          "text": [
            "329    14\n",
            "318    10\n",
            "317     9\n",
            "65     15\n",
            "59     16\n",
            "Name: G3, dtype: int64\n",
            "9     15\n",
            "25     8\n",
            "28    11\n",
            "31    17\n",
            "32    16\n",
            "Name: G3, dtype: int64\n"
          ],
          "name": "stdout"
        }
      ]
    },
    {
      "cell_type": "code",
      "metadata": {
        "colab": {
          "base_uri": "https://localhost:8080/"
        },
        "id": "HnGSqb-q4wk8",
        "outputId": "ae28bf4a-b9c2-40d6-cd24-bac21aea0717"
      },
      "source": [
        "print(trainFeatures.head())\n",
        "print(testFeatures.head())"
      ],
      "execution_count": null,
      "outputs": [
        {
          "output_type": "stream",
          "text": [
            "     G1\n",
            "329  14\n",
            "318  11\n",
            "317   9\n",
            "65   16\n",
            "59   15\n",
            "    G1\n",
            "9   14\n",
            "25   6\n",
            "28  11\n",
            "31  17\n",
            "32  17\n"
          ],
          "name": "stdout"
        }
      ]
    },
    {
      "cell_type": "code",
      "metadata": {
        "id": "XPTSq34jk4o_"
      },
      "source": [
        "# univariate -> num(features) = 1\n",
        "# multvariate -> num(features) > 1 = 11\n",
        "\n",
        "\n",
        "model = tf.keras.Sequential([\n",
        "                             tf.keras.layers.Dense(1)\n",
        "\n",
        "])"
      ],
      "execution_count": null,
      "outputs": []
    },
    {
      "cell_type": "code",
      "metadata": {
        "id": "4C4GKBdE6iCE"
      },
      "source": [
        "model.compile(\n",
        "    loss = 'mean_absolute_error', #minimizing the MAE loss\n",
        "    optimizer = tf.keras.optimizers.Adam(0.001), #learning rate specified as 0.001\n",
        "    # optimizer = 'adam', #takes the default learning rate\n",
        "    metrics = ['mae', 'mse'] #meanSquare and meanAbsolute error metrics\n",
        ")"
      ],
      "execution_count": null,
      "outputs": []
    },
    {
      "cell_type": "code",
      "metadata": {
        "colab": {
          "base_uri": "https://localhost:8080/"
        },
        "id": "d_A7DrhB6zvm",
        "outputId": "cc6f2388-e1f6-4ed8-f748-182c0c54546e"
      },
      "source": [
        "numEpochs = 300\n",
        "history = model.fit(x = trainFeatures, y = trainLabels, validation_data = (testFeatures, testLabels), epochs = numEpochs)"
      ],
      "execution_count": null,
      "outputs": [
        {
          "output_type": "stream",
          "text": [
            "Epoch 1/300\n",
            "10/10 [==============================] - 0s 16ms/step - loss: 15.1678 - mae: 15.1678 - mse: 263.7407 - val_loss: 15.9720 - val_mae: 15.9720 - val_mse: 290.4030\n",
            "Epoch 2/300\n",
            "10/10 [==============================] - 0s 3ms/step - loss: 15.0501 - mae: 15.0501 - mse: 259.8296 - val_loss: 15.8474 - val_mae: 15.8474 - val_mse: 286.0678\n",
            "Epoch 3/300\n",
            "10/10 [==============================] - 0s 4ms/step - loss: 14.9331 - mae: 14.9331 - mse: 256.0442 - val_loss: 15.7226 - val_mae: 15.7226 - val_mse: 281.7569\n",
            "Epoch 4/300\n",
            "10/10 [==============================] - 0s 3ms/step - loss: 14.8151 - mae: 14.8151 - mse: 252.1957 - val_loss: 15.5982 - val_mae: 15.5982 - val_mse: 277.4957\n",
            "Epoch 5/300\n",
            "10/10 [==============================] - 0s 4ms/step - loss: 14.6974 - mae: 14.6974 - mse: 248.3794 - val_loss: 15.4739 - val_mae: 15.4739 - val_mse: 273.2664\n",
            "Epoch 6/300\n",
            "10/10 [==============================] - 0s 3ms/step - loss: 14.5800 - mae: 14.5800 - mse: 244.6567 - val_loss: 15.3492 - val_mae: 15.3492 - val_mse: 269.0606\n",
            "Epoch 7/300\n",
            "10/10 [==============================] - 0s 3ms/step - loss: 14.4625 - mae: 14.4625 - mse: 240.9108 - val_loss: 15.2245 - val_mae: 15.2245 - val_mse: 264.8862\n",
            "Epoch 8/300\n",
            "10/10 [==============================] - 0s 3ms/step - loss: 14.3447 - mae: 14.3447 - mse: 237.1850 - val_loss: 15.1000 - val_mae: 15.1000 - val_mse: 260.7544\n",
            "Epoch 9/300\n",
            "10/10 [==============================] - 0s 3ms/step - loss: 14.2281 - mae: 14.2281 - mse: 233.5874 - val_loss: 14.9747 - val_mae: 14.9747 - val_mse: 256.6300\n",
            "Epoch 10/300\n",
            "10/10 [==============================] - 0s 4ms/step - loss: 14.1090 - mae: 14.1090 - mse: 229.8302 - val_loss: 14.8510 - val_mae: 14.8510 - val_mse: 252.5869\n",
            "Epoch 11/300\n",
            "10/10 [==============================] - 0s 4ms/step - loss: 13.9924 - mae: 13.9924 - mse: 226.2670 - val_loss: 14.7263 - val_mae: 14.7263 - val_mse: 248.5499\n",
            "Epoch 12/300\n",
            "10/10 [==============================] - 0s 4ms/step - loss: 13.8748 - mae: 13.8748 - mse: 222.6881 - val_loss: 14.6018 - val_mae: 14.6018 - val_mse: 244.5477\n",
            "Epoch 13/300\n",
            "10/10 [==============================] - 0s 3ms/step - loss: 13.7569 - mae: 13.7569 - mse: 219.1125 - val_loss: 14.4775 - val_mae: 14.4775 - val_mse: 240.5883\n",
            "Epoch 14/300\n",
            "10/10 [==============================] - 0s 4ms/step - loss: 13.6398 - mae: 13.6398 - mse: 215.6200 - val_loss: 14.3528 - val_mae: 14.3528 - val_mse: 236.6494\n",
            "Epoch 15/300\n",
            "10/10 [==============================] - 0s 3ms/step - loss: 13.5218 - mae: 13.5218 - mse: 212.0836 - val_loss: 14.2285 - val_mae: 14.2285 - val_mse: 232.7552\n",
            "Epoch 16/300\n",
            "10/10 [==============================] - 0s 3ms/step - loss: 13.4049 - mae: 13.4049 - mse: 208.6563 - val_loss: 14.1037 - val_mae: 14.1037 - val_mse: 228.8791\n",
            "Epoch 17/300\n",
            "10/10 [==============================] - 0s 4ms/step - loss: 13.2872 - mae: 13.2872 - mse: 205.2325 - val_loss: 13.9790 - val_mae: 13.9790 - val_mse: 225.0418\n",
            "Epoch 18/300\n",
            "10/10 [==============================] - 0s 5ms/step - loss: 13.1692 - mae: 13.1692 - mse: 201.7880 - val_loss: 13.8548 - val_mae: 13.8548 - val_mse: 221.2492\n",
            "Epoch 19/300\n",
            "10/10 [==============================] - 0s 4ms/step - loss: 13.0518 - mae: 13.0518 - mse: 198.4043 - val_loss: 13.7303 - val_mae: 13.7303 - val_mse: 217.4849\n",
            "Epoch 20/300\n",
            "10/10 [==============================] - 0s 4ms/step - loss: 12.9348 - mae: 12.9348 - mse: 195.0961 - val_loss: 13.6055 - val_mae: 13.6055 - val_mse: 213.7408\n",
            "Epoch 21/300\n",
            "10/10 [==============================] - 0s 4ms/step - loss: 12.8172 - mae: 12.8172 - mse: 191.8121 - val_loss: 13.4808 - val_mae: 13.4808 - val_mse: 210.0351\n",
            "Epoch 22/300\n",
            "10/10 [==============================] - 0s 3ms/step - loss: 12.6986 - mae: 12.6986 - mse: 188.4191 - val_loss: 13.3570 - val_mae: 13.3570 - val_mse: 206.3911\n",
            "Epoch 23/300\n",
            "10/10 [==============================] - 0s 3ms/step - loss: 12.5821 - mae: 12.5821 - mse: 185.2159 - val_loss: 13.2321 - val_mae: 13.2321 - val_mse: 202.7474\n",
            "Epoch 24/300\n",
            "10/10 [==============================] - 0s 3ms/step - loss: 12.4642 - mae: 12.4642 - mse: 181.9612 - val_loss: 13.1077 - val_mae: 13.1077 - val_mse: 199.1501\n",
            "Epoch 25/300\n",
            "10/10 [==============================] - 0s 3ms/step - loss: 12.3471 - mae: 12.3471 - mse: 178.8102 - val_loss: 12.9829 - val_mae: 12.9829 - val_mse: 195.5748\n",
            "Epoch 26/300\n",
            "10/10 [==============================] - 0s 3ms/step - loss: 12.2291 - mae: 12.2291 - mse: 175.6174 - val_loss: 12.8585 - val_mae: 12.8585 - val_mse: 192.0446\n",
            "Epoch 27/300\n",
            "10/10 [==============================] - 0s 5ms/step - loss: 12.1118 - mae: 12.1118 - mse: 172.5017 - val_loss: 12.7340 - val_mae: 12.7340 - val_mse: 188.5446\n",
            "Epoch 28/300\n",
            "10/10 [==============================] - 0s 3ms/step - loss: 11.9938 - mae: 11.9938 - mse: 169.3591 - val_loss: 12.6099 - val_mae: 12.6099 - val_mse: 185.0884\n",
            "Epoch 29/300\n",
            "10/10 [==============================] - 0s 3ms/step - loss: 11.8772 - mae: 11.8772 - mse: 166.3235 - val_loss: 12.4847 - val_mae: 12.4847 - val_mse: 181.6361\n",
            "Epoch 30/300\n",
            "10/10 [==============================] - 0s 3ms/step - loss: 11.7594 - mae: 11.7594 - mse: 163.2692 - val_loss: 12.3599 - val_mae: 12.3599 - val_mse: 178.2279\n",
            "Epoch 31/300\n",
            "10/10 [==============================] - 0s 3ms/step - loss: 11.6414 - mae: 11.6414 - mse: 160.2418 - val_loss: 12.2355 - val_mae: 12.2355 - val_mse: 174.8665\n",
            "Epoch 32/300\n",
            "10/10 [==============================] - 0s 4ms/step - loss: 11.5240 - mae: 11.5240 - mse: 157.2612 - val_loss: 12.1111 - val_mae: 12.1111 - val_mse: 171.5367\n",
            "Epoch 33/300\n",
            "10/10 [==============================] - 0s 5ms/step - loss: 11.4070 - mae: 11.4070 - mse: 154.3331 - val_loss: 11.9863 - val_mae: 11.9863 - val_mse: 168.2277\n",
            "Epoch 34/300\n",
            "10/10 [==============================] - 0s 3ms/step - loss: 11.2885 - mae: 11.2885 - mse: 151.3418 - val_loss: 11.8624 - val_mae: 11.8624 - val_mse: 164.9776\n",
            "Epoch 35/300\n",
            "10/10 [==============================] - 0s 3ms/step - loss: 11.1706 - mae: 11.1706 - mse: 148.3853 - val_loss: 11.7388 - val_mae: 11.7388 - val_mse: 161.7675\n",
            "Epoch 36/300\n",
            "10/10 [==============================] - 0s 5ms/step - loss: 11.0551 - mae: 11.0551 - mse: 145.6424 - val_loss: 11.6130 - val_mae: 11.6130 - val_mse: 158.5364\n",
            "Epoch 37/300\n",
            "10/10 [==============================] - 0s 4ms/step - loss: 10.9361 - mae: 10.9361 - mse: 142.7260 - val_loss: 11.4888 - val_mae: 11.4888 - val_mse: 155.3779\n",
            "Epoch 38/300\n",
            "10/10 [==============================] - 0s 3ms/step - loss: 10.8191 - mae: 10.8191 - mse: 139.9183 - val_loss: 11.3645 - val_mae: 11.3645 - val_mse: 152.2496\n",
            "Epoch 39/300\n",
            "10/10 [==============================] - 0s 3ms/step - loss: 10.7032 - mae: 10.7032 - mse: 137.1879 - val_loss: 11.2400 - val_mae: 11.2400 - val_mse: 149.1481\n",
            "Epoch 40/300\n",
            "10/10 [==============================] - 0s 3ms/step - loss: 10.5872 - mae: 10.5872 - mse: 134.4028 - val_loss: 11.1193 - val_mae: 11.1193 - val_mse: 146.1413\n",
            "Epoch 41/300\n",
            "10/10 [==============================] - 0s 4ms/step - loss: 10.4794 - mae: 10.4794 - mse: 131.7942 - val_loss: 11.0103 - val_mae: 11.0103 - val_mse: 143.2221\n",
            "Epoch 42/300\n",
            "10/10 [==============================] - 0s 3ms/step - loss: 10.3764 - mae: 10.3764 - mse: 129.2099 - val_loss: 10.9084 - val_mae: 10.9084 - val_mse: 140.4431\n",
            "Epoch 43/300\n",
            "10/10 [==============================] - 0s 3ms/step - loss: 10.2832 - mae: 10.2832 - mse: 126.7898 - val_loss: 10.8094 - val_mae: 10.8094 - val_mse: 137.7690\n",
            "Epoch 44/300\n",
            "10/10 [==============================] - 0s 3ms/step - loss: 10.1936 - mae: 10.1936 - mse: 124.4247 - val_loss: 10.7128 - val_mae: 10.7128 - val_mse: 135.1860\n",
            "Epoch 45/300\n",
            "10/10 [==============================] - 0s 3ms/step - loss: 10.1063 - mae: 10.1063 - mse: 122.1715 - val_loss: 10.6158 - val_mae: 10.6158 - val_mse: 132.6199\n",
            "Epoch 46/300\n",
            "10/10 [==============================] - 0s 3ms/step - loss: 10.0172 - mae: 10.0172 - mse: 119.8983 - val_loss: 10.5202 - val_mae: 10.5202 - val_mse: 130.1147\n",
            "Epoch 47/300\n",
            "10/10 [==============================] - 0s 4ms/step - loss: 9.9303 - mae: 9.9303 - mse: 117.6651 - val_loss: 10.4232 - val_mae: 10.4232 - val_mse: 127.5989\n",
            "Epoch 48/300\n",
            "10/10 [==============================] - 0s 3ms/step - loss: 9.8414 - mae: 9.8414 - mse: 115.4254 - val_loss: 10.3268 - val_mae: 10.3268 - val_mse: 125.1226\n",
            "Epoch 49/300\n",
            "10/10 [==============================] - 0s 4ms/step - loss: 9.7532 - mae: 9.7532 - mse: 113.2223 - val_loss: 10.2299 - val_mae: 10.2299 - val_mse: 122.6609\n",
            "Epoch 50/300\n",
            "10/10 [==============================] - 0s 3ms/step - loss: 9.6640 - mae: 9.6640 - mse: 111.0509 - val_loss: 10.1335 - val_mae: 10.1335 - val_mse: 120.2377\n",
            "Epoch 51/300\n",
            "10/10 [==============================] - 0s 3ms/step - loss: 9.5760 - mae: 9.5760 - mse: 108.8808 - val_loss: 10.0356 - val_mae: 10.0356 - val_mse: 117.8036\n",
            "Epoch 52/300\n",
            "10/10 [==============================] - 0s 4ms/step - loss: 9.4862 - mae: 9.4862 - mse: 106.7155 - val_loss: 9.9381 - val_mae: 9.9381 - val_mse: 115.4062\n",
            "Epoch 53/300\n",
            "10/10 [==============================] - 0s 4ms/step - loss: 9.3979 - mae: 9.3979 - mse: 104.5947 - val_loss: 9.8394 - val_mae: 9.8394 - val_mse: 113.0023\n",
            "Epoch 54/300\n",
            "10/10 [==============================] - 0s 3ms/step - loss: 9.3066 - mae: 9.3066 - mse: 102.4535 - val_loss: 9.7421 - val_mae: 9.7421 - val_mse: 110.6608\n",
            "Epoch 55/300\n",
            "10/10 [==============================] - 0s 4ms/step - loss: 9.2174 - mae: 9.2174 - mse: 100.3872 - val_loss: 9.6437 - val_mae: 9.6437 - val_mse: 108.3210\n",
            "Epoch 56/300\n",
            "10/10 [==============================] - 0s 3ms/step - loss: 9.1283 - mae: 9.1283 - mse: 98.3097 - val_loss: 9.5441 - val_mae: 9.5441 - val_mse: 105.9787\n",
            "Epoch 57/300\n",
            "10/10 [==============================] - 0s 4ms/step - loss: 9.0368 - mae: 9.0368 - mse: 96.2329 - val_loss: 9.4457 - val_mae: 9.4457 - val_mse: 103.6893\n",
            "Epoch 58/300\n",
            "10/10 [==============================] - 0s 3ms/step - loss: 8.9463 - mae: 8.9463 - mse: 94.2046 - val_loss: 9.3469 - val_mae: 9.3469 - val_mse: 101.4201\n",
            "Epoch 59/300\n",
            "10/10 [==============================] - 0s 4ms/step - loss: 8.8554 - mae: 8.8554 - mse: 92.1638 - val_loss: 9.2481 - val_mae: 9.2481 - val_mse: 99.1767\n",
            "Epoch 60/300\n",
            "10/10 [==============================] - 0s 4ms/step - loss: 8.7652 - mae: 8.7652 - mse: 90.2001 - val_loss: 9.1485 - val_mae: 9.1485 - val_mse: 96.9417\n",
            "Epoch 61/300\n",
            "10/10 [==============================] - 0s 3ms/step - loss: 8.6753 - mae: 8.6753 - mse: 88.2011 - val_loss: 9.0476 - val_mae: 9.0476 - val_mse: 94.7054\n",
            "Epoch 62/300\n",
            "10/10 [==============================] - 0s 3ms/step - loss: 8.5824 - mae: 8.5824 - mse: 86.2161 - val_loss: 8.9487 - val_mae: 8.9487 - val_mse: 92.5410\n",
            "Epoch 63/300\n",
            "10/10 [==============================] - 0s 3ms/step - loss: 8.4932 - mae: 8.4932 - mse: 84.3246 - val_loss: 8.8474 - val_mae: 8.8474 - val_mse: 90.3535\n",
            "Epoch 64/300\n",
            "10/10 [==============================] - 0s 3ms/step - loss: 8.3999 - mae: 8.3999 - mse: 82.3826 - val_loss: 8.7481 - val_mae: 8.7481 - val_mse: 88.2353\n",
            "Epoch 65/300\n",
            "10/10 [==============================] - 0s 4ms/step - loss: 8.3091 - mae: 8.3091 - mse: 80.5006 - val_loss: 8.6478 - val_mae: 8.6478 - val_mse: 86.1235\n",
            "Epoch 66/300\n",
            "10/10 [==============================] - 0s 4ms/step - loss: 8.2164 - mae: 8.2164 - mse: 78.5933 - val_loss: 8.5484 - val_mae: 8.5484 - val_mse: 84.0575\n",
            "Epoch 67/300\n",
            "10/10 [==============================] - 0s 4ms/step - loss: 8.1257 - mae: 8.1257 - mse: 76.7922 - val_loss: 8.4474 - val_mae: 8.4474 - val_mse: 81.9866\n",
            "Epoch 68/300\n",
            "10/10 [==============================] - 0s 3ms/step - loss: 8.0327 - mae: 8.0327 - mse: 74.9317 - val_loss: 8.3471 - val_mae: 8.3471 - val_mse: 79.9566\n",
            "Epoch 69/300\n",
            "10/10 [==============================] - 0s 3ms/step - loss: 7.9409 - mae: 7.9409 - mse: 73.1399 - val_loss: 8.2458 - val_mae: 8.2458 - val_mse: 77.9352\n",
            "Epoch 70/300\n",
            "10/10 [==============================] - 0s 3ms/step - loss: 7.8495 - mae: 7.8495 - mse: 71.3661 - val_loss: 8.1433 - val_mae: 8.1433 - val_mse: 75.9184\n",
            "Epoch 71/300\n",
            "10/10 [==============================] - 0s 3ms/step - loss: 7.7549 - mae: 7.7549 - mse: 69.5670 - val_loss: 8.0428 - val_mae: 8.0428 - val_mse: 73.9697\n",
            "Epoch 72/300\n",
            "10/10 [==============================] - 0s 3ms/step - loss: 7.6634 - mae: 7.6634 - mse: 67.8201 - val_loss: 7.9410 - val_mae: 7.9410 - val_mse: 72.0237\n",
            "Epoch 73/300\n",
            "10/10 [==============================] - 0s 4ms/step - loss: 7.5709 - mae: 7.5709 - mse: 66.1288 - val_loss: 7.8388 - val_mae: 7.8388 - val_mse: 70.1000\n",
            "Epoch 74/300\n",
            "10/10 [==============================] - 0s 3ms/step - loss: 7.4779 - mae: 7.4779 - mse: 64.4373 - val_loss: 7.7366 - val_mae: 7.7366 - val_mse: 68.2038\n",
            "Epoch 75/300\n",
            "10/10 [==============================] - 0s 4ms/step - loss: 7.3838 - mae: 7.3838 - mse: 62.7457 - val_loss: 7.6356 - val_mae: 7.6356 - val_mse: 66.3580\n",
            "Epoch 76/300\n",
            "10/10 [==============================] - 0s 3ms/step - loss: 7.2907 - mae: 7.2907 - mse: 61.0937 - val_loss: 7.5346 - val_mae: 7.5346 - val_mse: 64.5403\n",
            "Epoch 77/300\n",
            "10/10 [==============================] - 0s 3ms/step - loss: 7.1985 - mae: 7.1985 - mse: 59.4943 - val_loss: 7.4321 - val_mae: 7.4321 - val_mse: 62.7243\n",
            "Epoch 78/300\n",
            "10/10 [==============================] - 0s 3ms/step - loss: 7.1048 - mae: 7.1048 - mse: 57.8815 - val_loss: 7.3297 - val_mae: 7.3297 - val_mse: 60.9390\n",
            "Epoch 79/300\n",
            "10/10 [==============================] - 0s 3ms/step - loss: 7.0117 - mae: 7.0117 - mse: 56.3076 - val_loss: 7.2269 - val_mae: 7.2269 - val_mse: 59.1753\n",
            "Epoch 80/300\n",
            "10/10 [==============================] - 0s 3ms/step - loss: 6.9165 - mae: 6.9165 - mse: 54.7087 - val_loss: 7.1257 - val_mae: 7.1257 - val_mse: 57.4683\n",
            "Epoch 81/300\n",
            "10/10 [==============================] - 0s 4ms/step - loss: 6.8261 - mae: 6.8261 - mse: 53.2504 - val_loss: 7.0211 - val_mae: 7.0211 - val_mse: 55.7332\n",
            "Epoch 82/300\n",
            "10/10 [==============================] - 0s 4ms/step - loss: 6.7299 - mae: 6.7299 - mse: 51.6976 - val_loss: 6.9191 - val_mae: 6.9191 - val_mse: 54.0699\n",
            "Epoch 83/300\n",
            "10/10 [==============================] - 0s 4ms/step - loss: 6.6371 - mae: 6.6371 - mse: 50.2287 - val_loss: 6.8157 - val_mae: 6.8157 - val_mse: 52.4144\n",
            "Epoch 84/300\n",
            "10/10 [==============================] - 0s 3ms/step - loss: 6.5407 - mae: 6.5407 - mse: 48.7416 - val_loss: 6.7148 - val_mae: 6.7148 - val_mse: 50.8250\n",
            "Epoch 85/300\n",
            "10/10 [==============================] - 0s 4ms/step - loss: 6.4502 - mae: 6.4502 - mse: 47.3615 - val_loss: 6.6096 - val_mae: 6.6096 - val_mse: 49.1990\n",
            "Epoch 86/300\n",
            "10/10 [==============================] - 0s 4ms/step - loss: 6.3536 - mae: 6.3536 - mse: 45.9157 - val_loss: 6.5071 - val_mae: 6.5071 - val_mse: 47.6449\n",
            "Epoch 87/300\n",
            "10/10 [==============================] - 0s 3ms/step - loss: 6.2588 - mae: 6.2588 - mse: 44.5276 - val_loss: 6.4053 - val_mae: 6.4053 - val_mse: 46.1277\n",
            "Epoch 88/300\n",
            "10/10 [==============================] - 0s 3ms/step - loss: 6.1659 - mae: 6.1659 - mse: 43.1986 - val_loss: 6.3016 - val_mae: 6.3016 - val_mse: 44.6135\n",
            "Epoch 89/300\n",
            "10/10 [==============================] - 0s 4ms/step - loss: 6.0708 - mae: 6.0708 - mse: 41.8682 - val_loss: 6.1985 - val_mae: 6.1985 - val_mse: 43.1365\n",
            "Epoch 90/300\n",
            "10/10 [==============================] - 0s 4ms/step - loss: 5.9755 - mae: 5.9755 - mse: 40.5386 - val_loss: 6.0961 - val_mae: 6.0961 - val_mse: 41.6990\n",
            "Epoch 91/300\n",
            "10/10 [==============================] - 0s 4ms/step - loss: 5.8827 - mae: 5.8827 - mse: 39.2922 - val_loss: 5.9916 - val_mae: 5.9916 - val_mse: 40.2610\n",
            "Epoch 92/300\n",
            "10/10 [==============================] - 0s 4ms/step - loss: 5.7872 - mae: 5.7872 - mse: 38.0148 - val_loss: 5.8876 - val_mae: 5.8876 - val_mse: 38.8610\n",
            "Epoch 93/300\n",
            "10/10 [==============================] - 0s 3ms/step - loss: 5.6919 - mae: 5.6919 - mse: 36.7752 - val_loss: 5.7842 - val_mae: 5.7842 - val_mse: 37.4973\n",
            "Epoch 94/300\n",
            "10/10 [==============================] - 0s 3ms/step - loss: 5.5969 - mae: 5.5969 - mse: 35.5743 - val_loss: 5.6805 - val_mae: 5.6805 - val_mse: 36.1597\n",
            "Epoch 95/300\n",
            "10/10 [==============================] - 0s 3ms/step - loss: 5.5025 - mae: 5.5025 - mse: 34.3921 - val_loss: 5.5758 - val_mae: 5.5758 - val_mse: 34.8394\n",
            "Epoch 96/300\n",
            "10/10 [==============================] - 0s 3ms/step - loss: 5.4077 - mae: 5.4077 - mse: 33.2528 - val_loss: 5.4709 - val_mae: 5.4709 - val_mse: 33.5464\n",
            "Epoch 97/300\n",
            "10/10 [==============================] - 0s 5ms/step - loss: 5.3135 - mae: 5.3135 - mse: 32.1195 - val_loss: 5.3651 - val_mae: 5.3651 - val_mse: 32.2729\n",
            "Epoch 98/300\n",
            "10/10 [==============================] - 0s 4ms/step - loss: 5.2145 - mae: 5.2145 - mse: 30.9622 - val_loss: 5.2636 - val_mae: 5.2636 - val_mse: 31.0802\n",
            "Epoch 99/300\n",
            "10/10 [==============================] - 0s 4ms/step - loss: 5.1227 - mae: 5.1227 - mse: 29.9301 - val_loss: 5.1581 - val_mae: 5.1581 - val_mse: 29.8709\n",
            "Epoch 100/300\n",
            "10/10 [==============================] - 0s 4ms/step - loss: 5.0257 - mae: 5.0257 - mse: 28.8640 - val_loss: 5.0543 - val_mae: 5.0543 - val_mse: 28.7110\n",
            "Epoch 101/300\n",
            "10/10 [==============================] - 0s 3ms/step - loss: 4.9316 - mae: 4.9316 - mse: 27.8600 - val_loss: 4.9490 - val_mae: 4.9490 - val_mse: 27.5647\n",
            "Epoch 102/300\n",
            "10/10 [==============================] - 0s 4ms/step - loss: 4.8346 - mae: 4.8346 - mse: 26.8193 - val_loss: 4.8469 - val_mae: 4.8469 - val_mse: 26.4675\n",
            "Epoch 103/300\n",
            "10/10 [==============================] - 0s 4ms/step - loss: 4.7413 - mae: 4.7413 - mse: 25.8741 - val_loss: 4.7440 - val_mae: 4.7440 - val_mse: 25.3833\n",
            "Epoch 104/300\n",
            "10/10 [==============================] - 0s 4ms/step - loss: 4.6449 - mae: 4.6449 - mse: 24.9078 - val_loss: 4.6426 - val_mae: 4.6426 - val_mse: 24.3455\n",
            "Epoch 105/300\n",
            "10/10 [==============================] - 0s 4ms/step - loss: 4.5494 - mae: 4.5494 - mse: 23.9866 - val_loss: 4.5418 - val_mae: 4.5418 - val_mse: 23.3419\n",
            "Epoch 106/300\n",
            "10/10 [==============================] - 0s 4ms/step - loss: 4.4564 - mae: 4.4564 - mse: 23.1131 - val_loss: 4.4387 - val_mae: 4.4387 - val_mse: 22.3465\n",
            "Epoch 107/300\n",
            "10/10 [==============================] - 0s 3ms/step - loss: 4.3602 - mae: 4.3602 - mse: 22.2294 - val_loss: 4.3370 - val_mae: 4.3370 - val_mse: 21.3943\n",
            "Epoch 108/300\n",
            "10/10 [==============================] - 0s 4ms/step - loss: 4.2660 - mae: 4.2660 - mse: 21.4022 - val_loss: 4.2352 - val_mae: 4.2352 - val_mse: 20.4706\n",
            "Epoch 109/300\n",
            "10/10 [==============================] - 0s 4ms/step - loss: 4.1717 - mae: 4.1717 - mse: 20.5872 - val_loss: 4.1341 - val_mae: 4.1341 - val_mse: 19.5826\n",
            "Epoch 110/300\n",
            "10/10 [==============================] - 0s 3ms/step - loss: 4.0797 - mae: 4.0797 - mse: 19.8183 - val_loss: 4.0316 - val_mae: 4.0316 - val_mse: 18.7128\n",
            "Epoch 111/300\n",
            "10/10 [==============================] - 0s 3ms/step - loss: 3.9860 - mae: 3.9860 - mse: 19.0464 - val_loss: 3.9297 - val_mae: 3.9297 - val_mse: 17.8775\n",
            "Epoch 112/300\n",
            "10/10 [==============================] - 0s 4ms/step - loss: 3.8925 - mae: 3.8925 - mse: 18.3199 - val_loss: 3.8288 - val_mae: 3.8288 - val_mse: 17.0796\n",
            "Epoch 113/300\n",
            "10/10 [==============================] - 0s 4ms/step - loss: 3.8005 - mae: 3.8005 - mse: 17.6220 - val_loss: 3.7275 - val_mae: 3.7275 - val_mse: 16.3087\n",
            "Epoch 114/300\n",
            "10/10 [==============================] - 0s 4ms/step - loss: 3.7093 - mae: 3.7093 - mse: 16.9540 - val_loss: 3.6262 - val_mae: 3.6262 - val_mse: 15.5663\n",
            "Epoch 115/300\n",
            "10/10 [==============================] - 0s 5ms/step - loss: 3.6186 - mae: 3.6186 - mse: 16.3081 - val_loss: 3.5268 - val_mae: 3.5268 - val_mse: 14.8666\n",
            "Epoch 116/300\n",
            "10/10 [==============================] - 0s 4ms/step - loss: 3.5320 - mae: 3.5320 - mse: 15.7082 - val_loss: 3.4259 - val_mae: 3.4259 - val_mse: 14.1860\n",
            "Epoch 117/300\n",
            "10/10 [==============================] - 0s 3ms/step - loss: 3.4414 - mae: 3.4414 - mse: 15.1081 - val_loss: 3.3282 - val_mae: 3.3282 - val_mse: 13.5543\n",
            "Epoch 118/300\n",
            "10/10 [==============================] - 0s 4ms/step - loss: 3.3550 - mae: 3.3550 - mse: 14.5579 - val_loss: 3.2305 - val_mae: 3.2305 - val_mse: 12.9499\n",
            "Epoch 119/300\n",
            "10/10 [==============================] - 0s 4ms/step - loss: 3.2702 - mae: 3.2702 - mse: 14.0294 - val_loss: 3.1329 - val_mae: 3.1329 - val_mse: 12.3733\n",
            "Epoch 120/300\n",
            "10/10 [==============================] - 0s 4ms/step - loss: 3.1853 - mae: 3.1853 - mse: 13.5325 - val_loss: 3.0356 - val_mae: 3.0356 - val_mse: 11.8256\n",
            "Epoch 121/300\n",
            "10/10 [==============================] - 0s 4ms/step - loss: 3.1004 - mae: 3.1004 - mse: 13.0636 - val_loss: 2.9409 - val_mae: 2.9409 - val_mse: 11.3067\n",
            "Epoch 122/300\n",
            "10/10 [==============================] - 0s 4ms/step - loss: 3.0170 - mae: 3.0170 - mse: 12.6023 - val_loss: 2.8490 - val_mae: 2.8490 - val_mse: 10.8186\n",
            "Epoch 123/300\n",
            "10/10 [==============================] - 0s 4ms/step - loss: 2.9366 - mae: 2.9366 - mse: 12.1895 - val_loss: 2.7597 - val_mae: 2.7597 - val_mse: 10.3584\n",
            "Epoch 124/300\n",
            "10/10 [==============================] - 0s 4ms/step - loss: 2.8570 - mae: 2.8570 - mse: 11.8023 - val_loss: 2.6731 - val_mae: 2.6731 - val_mse: 9.9329\n",
            "Epoch 125/300\n",
            "10/10 [==============================] - 0s 3ms/step - loss: 2.7788 - mae: 2.7788 - mse: 11.3989 - val_loss: 2.5907 - val_mae: 2.5907 - val_mse: 9.5440\n",
            "Epoch 126/300\n",
            "10/10 [==============================] - 0s 5ms/step - loss: 2.7056 - mae: 2.7056 - mse: 11.0876 - val_loss: 2.5070 - val_mae: 2.5070 - val_mse: 9.1736\n",
            "Epoch 127/300\n",
            "10/10 [==============================] - 0s 4ms/step - loss: 2.6309 - mae: 2.6309 - mse: 10.7627 - val_loss: 2.4254 - val_mae: 2.4254 - val_mse: 8.8360\n",
            "Epoch 128/300\n",
            "10/10 [==============================] - 0s 5ms/step - loss: 2.5598 - mae: 2.5598 - mse: 10.4737 - val_loss: 2.3445 - val_mae: 2.3445 - val_mse: 8.5241\n",
            "Epoch 129/300\n",
            "10/10 [==============================] - 0s 3ms/step - loss: 2.4905 - mae: 2.4905 - mse: 10.2150 - val_loss: 2.2646 - val_mae: 2.2646 - val_mse: 8.2378\n",
            "Epoch 130/300\n",
            "10/10 [==============================] - 0s 4ms/step - loss: 2.4272 - mae: 2.4272 - mse: 9.9799 - val_loss: 2.1918 - val_mae: 2.1918 - val_mse: 7.9917\n",
            "Epoch 131/300\n",
            "10/10 [==============================] - 0s 4ms/step - loss: 2.3702 - mae: 2.3702 - mse: 9.7765 - val_loss: 2.1195 - val_mae: 2.1195 - val_mse: 7.7670\n",
            "Epoch 132/300\n",
            "10/10 [==============================] - 0s 3ms/step - loss: 2.3138 - mae: 2.3138 - mse: 9.5736 - val_loss: 2.0520 - val_mae: 2.0520 - val_mse: 7.5728\n",
            "Epoch 133/300\n",
            "10/10 [==============================] - 0s 3ms/step - loss: 2.2680 - mae: 2.2680 - mse: 9.4230 - val_loss: 1.9886 - val_mae: 1.9886 - val_mse: 7.4001\n",
            "Epoch 134/300\n",
            "10/10 [==============================] - 0s 4ms/step - loss: 2.2247 - mae: 2.2247 - mse: 9.2799 - val_loss: 1.9305 - val_mae: 1.9305 - val_mse: 7.2523\n",
            "Epoch 135/300\n",
            "10/10 [==============================] - 0s 3ms/step - loss: 2.1843 - mae: 2.1843 - mse: 9.1666 - val_loss: 1.8787 - val_mae: 1.8787 - val_mse: 7.1261\n",
            "Epoch 136/300\n",
            "10/10 [==============================] - 0s 4ms/step - loss: 2.1521 - mae: 2.1521 - mse: 9.0543 - val_loss: 1.8330 - val_mae: 1.8330 - val_mse: 7.0220\n",
            "Epoch 137/300\n",
            "10/10 [==============================] - 0s 4ms/step - loss: 2.1213 - mae: 2.1213 - mse: 8.9742 - val_loss: 1.7913 - val_mae: 1.7913 - val_mse: 6.9364\n",
            "Epoch 138/300\n",
            "10/10 [==============================] - 0s 4ms/step - loss: 2.0958 - mae: 2.0958 - mse: 8.9075 - val_loss: 1.7571 - val_mae: 1.7571 - val_mse: 6.8589\n",
            "Epoch 139/300\n",
            "10/10 [==============================] - 0s 3ms/step - loss: 2.0709 - mae: 2.0709 - mse: 8.8533 - val_loss: 1.7279 - val_mae: 1.7279 - val_mse: 6.7928\n",
            "Epoch 140/300\n",
            "10/10 [==============================] - 0s 3ms/step - loss: 2.0464 - mae: 2.0464 - mse: 8.7872 - val_loss: 1.7028 - val_mae: 1.7028 - val_mse: 6.7382\n",
            "Epoch 141/300\n",
            "10/10 [==============================] - 0s 4ms/step - loss: 2.0249 - mae: 2.0249 - mse: 8.7441 - val_loss: 1.6831 - val_mae: 1.6831 - val_mse: 6.6934\n",
            "Epoch 142/300\n",
            "10/10 [==============================] - 0s 3ms/step - loss: 2.0070 - mae: 2.0070 - mse: 8.7152 - val_loss: 1.6625 - val_mae: 1.6625 - val_mse: 6.6543\n",
            "Epoch 143/300\n",
            "10/10 [==============================] - 0s 3ms/step - loss: 1.9860 - mae: 1.9860 - mse: 8.6753 - val_loss: 1.6470 - val_mae: 1.6470 - val_mse: 6.6268\n",
            "Epoch 144/300\n",
            "10/10 [==============================] - 0s 3ms/step - loss: 1.9720 - mae: 1.9720 - mse: 8.6561 - val_loss: 1.6343 - val_mae: 1.6343 - val_mse: 6.6057\n",
            "Epoch 145/300\n",
            "10/10 [==============================] - 0s 3ms/step - loss: 1.9603 - mae: 1.9603 - mse: 8.6486 - val_loss: 1.6234 - val_mae: 1.6234 - val_mse: 6.5908\n",
            "Epoch 146/300\n",
            "10/10 [==============================] - 0s 4ms/step - loss: 1.9501 - mae: 1.9501 - mse: 8.6298 - val_loss: 1.6162 - val_mae: 1.6162 - val_mse: 6.5813\n",
            "Epoch 147/300\n",
            "10/10 [==============================] - 0s 3ms/step - loss: 1.9421 - mae: 1.9421 - mse: 8.6294 - val_loss: 1.6095 - val_mae: 1.6095 - val_mse: 6.5756\n",
            "Epoch 148/300\n",
            "10/10 [==============================] - 0s 4ms/step - loss: 1.9340 - mae: 1.9340 - mse: 8.6202 - val_loss: 1.6036 - val_mae: 1.6036 - val_mse: 6.5727\n",
            "Epoch 149/300\n",
            "10/10 [==============================] - 0s 3ms/step - loss: 1.9282 - mae: 1.9282 - mse: 8.6226 - val_loss: 1.6027 - val_mae: 1.6027 - val_mse: 6.5723\n",
            "Epoch 150/300\n",
            "10/10 [==============================] - 0s 4ms/step - loss: 1.9240 - mae: 1.9240 - mse: 8.6224 - val_loss: 1.6021 - val_mae: 1.6021 - val_mse: 6.5736\n",
            "Epoch 151/300\n",
            "10/10 [==============================] - 0s 4ms/step - loss: 1.9204 - mae: 1.9204 - mse: 8.6250 - val_loss: 1.6015 - val_mae: 1.6015 - val_mse: 6.5760\n",
            "Epoch 152/300\n",
            "10/10 [==============================] - 0s 4ms/step - loss: 1.9173 - mae: 1.9173 - mse: 8.6268 - val_loss: 1.6013 - val_mae: 1.6013 - val_mse: 6.5799\n",
            "Epoch 153/300\n",
            "10/10 [==============================] - 0s 5ms/step - loss: 1.9138 - mae: 1.9138 - mse: 8.6312 - val_loss: 1.6016 - val_mae: 1.6016 - val_mse: 6.5845\n",
            "Epoch 154/300\n",
            "10/10 [==============================] - 0s 4ms/step - loss: 1.9110 - mae: 1.9110 - mse: 8.6345 - val_loss: 1.6019 - val_mae: 1.6019 - val_mse: 6.5903\n",
            "Epoch 155/300\n",
            "10/10 [==============================] - 0s 4ms/step - loss: 1.9083 - mae: 1.9083 - mse: 8.6466 - val_loss: 1.6029 - val_mae: 1.6029 - val_mse: 6.5976\n",
            "Epoch 156/300\n",
            "10/10 [==============================] - 0s 3ms/step - loss: 1.9060 - mae: 1.9060 - mse: 8.6508 - val_loss: 1.6043 - val_mae: 1.6043 - val_mse: 6.6038\n",
            "Epoch 157/300\n",
            "10/10 [==============================] - 0s 4ms/step - loss: 1.9046 - mae: 1.9046 - mse: 8.6559 - val_loss: 1.6055 - val_mae: 1.6055 - val_mse: 6.6095\n",
            "Epoch 158/300\n",
            "10/10 [==============================] - 0s 4ms/step - loss: 1.9032 - mae: 1.9032 - mse: 8.6605 - val_loss: 1.6064 - val_mae: 1.6064 - val_mse: 6.6141\n",
            "Epoch 159/300\n",
            "10/10 [==============================] - 0s 4ms/step - loss: 1.9023 - mae: 1.9023 - mse: 8.6671 - val_loss: 1.6077 - val_mae: 1.6077 - val_mse: 6.6212\n",
            "Epoch 160/300\n",
            "10/10 [==============================] - 0s 3ms/step - loss: 1.9010 - mae: 1.9010 - mse: 8.6721 - val_loss: 1.6088 - val_mae: 1.6088 - val_mse: 6.6275\n",
            "Epoch 161/300\n",
            "10/10 [==============================] - 0s 4ms/step - loss: 1.8999 - mae: 1.8999 - mse: 8.6801 - val_loss: 1.6103 - val_mae: 1.6103 - val_mse: 6.6353\n",
            "Epoch 162/300\n",
            "10/10 [==============================] - 0s 4ms/step - loss: 1.8988 - mae: 1.8988 - mse: 8.6871 - val_loss: 1.6121 - val_mae: 1.6121 - val_mse: 6.6435\n",
            "Epoch 163/300\n",
            "10/10 [==============================] - 0s 4ms/step - loss: 1.8973 - mae: 1.8973 - mse: 8.6932 - val_loss: 1.6135 - val_mae: 1.6135 - val_mse: 6.6500\n",
            "Epoch 164/300\n",
            "10/10 [==============================] - 0s 3ms/step - loss: 1.8966 - mae: 1.8966 - mse: 8.7004 - val_loss: 1.6156 - val_mae: 1.6156 - val_mse: 6.6576\n",
            "Epoch 165/300\n",
            "10/10 [==============================] - 0s 3ms/step - loss: 1.8961 - mae: 1.8961 - mse: 8.7048 - val_loss: 1.6165 - val_mae: 1.6165 - val_mse: 6.6603\n",
            "Epoch 166/300\n",
            "10/10 [==============================] - 0s 4ms/step - loss: 1.8960 - mae: 1.8960 - mse: 8.7076 - val_loss: 1.6175 - val_mae: 1.6175 - val_mse: 6.6632\n",
            "Epoch 167/300\n",
            "10/10 [==============================] - 0s 4ms/step - loss: 1.8958 - mae: 1.8958 - mse: 8.7095 - val_loss: 1.6182 - val_mae: 1.6182 - val_mse: 6.6654\n",
            "Epoch 168/300\n",
            "10/10 [==============================] - 0s 4ms/step - loss: 1.8958 - mae: 1.8958 - mse: 8.7142 - val_loss: 1.6198 - val_mae: 1.6198 - val_mse: 6.6704\n",
            "Epoch 169/300\n",
            "10/10 [==============================] - 0s 4ms/step - loss: 1.8955 - mae: 1.8955 - mse: 8.7158 - val_loss: 1.6204 - val_mae: 1.6204 - val_mse: 6.6723\n",
            "Epoch 170/300\n",
            "10/10 [==============================] - 0s 4ms/step - loss: 1.8953 - mae: 1.8953 - mse: 8.7174 - val_loss: 1.6211 - val_mae: 1.6211 - val_mse: 6.6744\n",
            "Epoch 171/300\n",
            "10/10 [==============================] - 0s 3ms/step - loss: 1.8952 - mae: 1.8952 - mse: 8.7220 - val_loss: 1.6224 - val_mae: 1.6224 - val_mse: 6.6788\n",
            "Epoch 172/300\n",
            "10/10 [==============================] - 0s 3ms/step - loss: 1.8950 - mae: 1.8950 - mse: 8.7241 - val_loss: 1.6231 - val_mae: 1.6231 - val_mse: 6.6810\n",
            "Epoch 173/300\n",
            "10/10 [==============================] - 0s 4ms/step - loss: 1.8949 - mae: 1.8949 - mse: 8.7262 - val_loss: 1.6239 - val_mae: 1.6239 - val_mse: 6.6837\n",
            "Epoch 174/300\n",
            "10/10 [==============================] - 0s 3ms/step - loss: 1.8948 - mae: 1.8948 - mse: 8.7278 - val_loss: 1.6246 - val_mae: 1.6246 - val_mse: 6.6861\n",
            "Epoch 175/300\n",
            "10/10 [==============================] - 0s 3ms/step - loss: 1.8946 - mae: 1.8946 - mse: 8.7301 - val_loss: 1.6257 - val_mae: 1.6257 - val_mse: 6.6899\n",
            "Epoch 176/300\n",
            "10/10 [==============================] - 0s 4ms/step - loss: 1.8945 - mae: 1.8945 - mse: 8.7367 - val_loss: 1.6271 - val_mae: 1.6271 - val_mse: 6.6948\n",
            "Epoch 177/300\n",
            "10/10 [==============================] - 0s 4ms/step - loss: 1.8942 - mae: 1.8942 - mse: 8.7383 - val_loss: 1.6277 - val_mae: 1.6277 - val_mse: 6.6970\n",
            "Epoch 178/300\n",
            "10/10 [==============================] - 0s 4ms/step - loss: 1.8942 - mae: 1.8942 - mse: 8.7431 - val_loss: 1.6293 - val_mae: 1.6293 - val_mse: 6.7029\n",
            "Epoch 179/300\n",
            "10/10 [==============================] - 0s 4ms/step - loss: 1.8939 - mae: 1.8939 - mse: 8.7456 - val_loss: 1.6297 - val_mae: 1.6297 - val_mse: 6.7044\n",
            "Epoch 180/300\n",
            "10/10 [==============================] - 0s 3ms/step - loss: 1.8938 - mae: 1.8938 - mse: 8.7491 - val_loss: 1.6309 - val_mae: 1.6309 - val_mse: 6.7088\n",
            "Epoch 181/300\n",
            "10/10 [==============================] - 0s 4ms/step - loss: 1.8936 - mae: 1.8936 - mse: 8.7532 - val_loss: 1.6322 - val_mae: 1.6322 - val_mse: 6.7142\n",
            "Epoch 182/300\n",
            "10/10 [==============================] - 0s 4ms/step - loss: 1.8934 - mae: 1.8934 - mse: 8.7581 - val_loss: 1.6331 - val_mae: 1.6331 - val_mse: 6.7176\n",
            "Epoch 183/300\n",
            "10/10 [==============================] - 0s 3ms/step - loss: 1.8932 - mae: 1.8932 - mse: 8.7611 - val_loss: 1.6340 - val_mae: 1.6340 - val_mse: 6.7212\n",
            "Epoch 184/300\n",
            "10/10 [==============================] - 0s 3ms/step - loss: 1.8930 - mae: 1.8930 - mse: 8.7623 - val_loss: 1.6344 - val_mae: 1.6344 - val_mse: 6.7224\n",
            "Epoch 185/300\n",
            "10/10 [==============================] - 0s 4ms/step - loss: 1.8929 - mae: 1.8929 - mse: 8.7660 - val_loss: 1.6355 - val_mae: 1.6355 - val_mse: 6.7269\n",
            "Epoch 186/300\n",
            "10/10 [==============================] - 0s 3ms/step - loss: 1.8928 - mae: 1.8928 - mse: 8.7683 - val_loss: 1.6358 - val_mae: 1.6358 - val_mse: 6.7278\n",
            "Epoch 187/300\n",
            "10/10 [==============================] - 0s 4ms/step - loss: 1.8928 - mae: 1.8928 - mse: 8.7675 - val_loss: 1.6354 - val_mae: 1.6354 - val_mse: 6.7257\n",
            "Epoch 188/300\n",
            "10/10 [==============================] - 0s 4ms/step - loss: 1.8929 - mae: 1.8929 - mse: 8.7643 - val_loss: 1.6345 - val_mae: 1.6345 - val_mse: 6.7215\n",
            "Epoch 189/300\n",
            "10/10 [==============================] - 0s 4ms/step - loss: 1.8928 - mae: 1.8928 - mse: 8.7650 - val_loss: 1.6354 - val_mae: 1.6354 - val_mse: 6.7255\n",
            "Epoch 190/300\n",
            "10/10 [==============================] - 0s 4ms/step - loss: 1.8927 - mae: 1.8927 - mse: 8.7653 - val_loss: 1.6353 - val_mae: 1.6353 - val_mse: 6.7247\n",
            "Epoch 191/300\n",
            "10/10 [==============================] - 0s 4ms/step - loss: 1.8927 - mae: 1.8927 - mse: 8.7653 - val_loss: 1.6356 - val_mae: 1.6356 - val_mse: 6.7253\n",
            "Epoch 192/300\n",
            "10/10 [==============================] - 0s 4ms/step - loss: 1.8926 - mae: 1.8926 - mse: 8.7653 - val_loss: 1.6355 - val_mae: 1.6355 - val_mse: 6.7247\n",
            "Epoch 193/300\n",
            "10/10 [==============================] - 0s 3ms/step - loss: 1.8926 - mae: 1.8926 - mse: 8.7644 - val_loss: 1.6352 - val_mae: 1.6352 - val_mse: 6.7230\n",
            "Epoch 194/300\n",
            "10/10 [==============================] - 0s 4ms/step - loss: 1.8927 - mae: 1.8927 - mse: 8.7636 - val_loss: 1.6352 - val_mae: 1.6352 - val_mse: 6.7230\n",
            "Epoch 195/300\n",
            "10/10 [==============================] - 0s 4ms/step - loss: 1.8929 - mae: 1.8929 - mse: 8.7679 - val_loss: 1.6364 - val_mae: 1.6364 - val_mse: 6.7274\n",
            "Epoch 196/300\n",
            "10/10 [==============================] - 0s 4ms/step - loss: 1.8928 - mae: 1.8928 - mse: 8.7635 - val_loss: 1.6346 - val_mae: 1.6346 - val_mse: 6.7195\n",
            "Epoch 197/300\n",
            "10/10 [==============================] - 0s 4ms/step - loss: 1.8925 - mae: 1.8925 - mse: 8.7611 - val_loss: 1.6350 - val_mae: 1.6350 - val_mse: 6.7211\n",
            "Epoch 198/300\n",
            "10/10 [==============================] - 0s 4ms/step - loss: 1.8925 - mae: 1.8925 - mse: 8.7643 - val_loss: 1.6354 - val_mae: 1.6354 - val_mse: 6.7225\n",
            "Epoch 199/300\n",
            "10/10 [==============================] - 0s 4ms/step - loss: 1.8925 - mae: 1.8925 - mse: 8.7629 - val_loss: 1.6353 - val_mae: 1.6353 - val_mse: 6.7218\n",
            "Epoch 200/300\n",
            "10/10 [==============================] - 0s 4ms/step - loss: 1.8923 - mae: 1.8923 - mse: 8.7620 - val_loss: 1.6351 - val_mae: 1.6351 - val_mse: 6.7207\n",
            "Epoch 201/300\n",
            "10/10 [==============================] - 0s 4ms/step - loss: 1.8924 - mae: 1.8924 - mse: 8.7628 - val_loss: 1.6357 - val_mae: 1.6357 - val_mse: 6.7224\n",
            "Epoch 202/300\n",
            "10/10 [==============================] - 0s 3ms/step - loss: 1.8923 - mae: 1.8923 - mse: 8.7631 - val_loss: 1.6353 - val_mae: 1.6353 - val_mse: 6.7207\n",
            "Epoch 203/300\n",
            "10/10 [==============================] - 0s 3ms/step - loss: 1.8923 - mae: 1.8923 - mse: 8.7597 - val_loss: 1.6343 - val_mae: 1.6343 - val_mse: 6.7159\n",
            "Epoch 204/300\n",
            "10/10 [==============================] - 0s 3ms/step - loss: 1.8923 - mae: 1.8923 - mse: 8.7599 - val_loss: 1.6352 - val_mae: 1.6352 - val_mse: 6.7195\n",
            "Epoch 205/300\n",
            "10/10 [==============================] - 0s 4ms/step - loss: 1.8922 - mae: 1.8922 - mse: 8.7600 - val_loss: 1.6351 - val_mae: 1.6351 - val_mse: 6.7188\n",
            "Epoch 206/300\n",
            "10/10 [==============================] - 0s 4ms/step - loss: 1.8921 - mae: 1.8921 - mse: 8.7601 - val_loss: 1.6353 - val_mae: 1.6353 - val_mse: 6.7195\n",
            "Epoch 207/300\n",
            "10/10 [==============================] - 0s 4ms/step - loss: 1.8921 - mae: 1.8921 - mse: 8.7599 - val_loss: 1.6349 - val_mae: 1.6349 - val_mse: 6.7173\n",
            "Epoch 208/300\n",
            "10/10 [==============================] - 0s 4ms/step - loss: 1.8920 - mae: 1.8920 - mse: 8.7592 - val_loss: 1.6352 - val_mae: 1.6352 - val_mse: 6.7184\n",
            "Epoch 209/300\n",
            "10/10 [==============================] - 0s 4ms/step - loss: 1.8920 - mae: 1.8920 - mse: 8.7590 - val_loss: 1.6346 - val_mae: 1.6346 - val_mse: 6.7155\n",
            "Epoch 210/300\n",
            "10/10 [==============================] - 0s 4ms/step - loss: 1.8923 - mae: 1.8923 - mse: 8.7598 - val_loss: 1.6354 - val_mae: 1.6354 - val_mse: 6.7184\n",
            "Epoch 211/300\n",
            "10/10 [==============================] - 0s 3ms/step - loss: 1.8920 - mae: 1.8920 - mse: 8.7579 - val_loss: 1.6344 - val_mae: 1.6344 - val_mse: 6.7137\n",
            "Epoch 212/300\n",
            "10/10 [==============================] - 0s 4ms/step - loss: 1.8919 - mae: 1.8919 - mse: 8.7574 - val_loss: 1.6351 - val_mae: 1.6351 - val_mse: 6.7163\n",
            "Epoch 213/300\n",
            "10/10 [==============================] - 0s 5ms/step - loss: 1.8918 - mae: 1.8918 - mse: 8.7574 - val_loss: 1.6345 - val_mae: 1.6345 - val_mse: 6.7136\n",
            "Epoch 214/300\n",
            "10/10 [==============================] - 0s 5ms/step - loss: 1.8919 - mae: 1.8919 - mse: 8.7572 - val_loss: 1.6352 - val_mae: 1.6352 - val_mse: 6.7162\n",
            "Epoch 215/300\n",
            "10/10 [==============================] - 0s 4ms/step - loss: 1.8919 - mae: 1.8919 - mse: 8.7584 - val_loss: 1.6350 - val_mae: 1.6350 - val_mse: 6.7152\n",
            "Epoch 216/300\n",
            "10/10 [==============================] - 0s 4ms/step - loss: 1.8918 - mae: 1.8918 - mse: 8.7551 - val_loss: 1.6339 - val_mae: 1.6339 - val_mse: 6.7098\n",
            "Epoch 217/300\n",
            "10/10 [==============================] - 0s 3ms/step - loss: 1.8918 - mae: 1.8918 - mse: 8.7517 - val_loss: 1.6339 - val_mae: 1.6339 - val_mse: 6.7095\n",
            "Epoch 218/300\n",
            "10/10 [==============================] - 0s 4ms/step - loss: 1.8918 - mae: 1.8918 - mse: 8.7533 - val_loss: 1.6348 - val_mae: 1.6348 - val_mse: 6.7133\n",
            "Epoch 219/300\n",
            "10/10 [==============================] - 0s 3ms/step - loss: 1.8917 - mae: 1.8917 - mse: 8.7546 - val_loss: 1.6348 - val_mae: 1.6348 - val_mse: 6.7129\n",
            "Epoch 220/300\n",
            "10/10 [==============================] - 0s 4ms/step - loss: 1.8916 - mae: 1.8916 - mse: 8.7557 - val_loss: 1.6349 - val_mae: 1.6349 - val_mse: 6.7128\n",
            "Epoch 221/300\n",
            "10/10 [==============================] - 0s 4ms/step - loss: 1.8918 - mae: 1.8918 - mse: 8.7538 - val_loss: 1.6341 - val_mae: 1.6341 - val_mse: 6.7091\n",
            "Epoch 222/300\n",
            "10/10 [==============================] - 0s 3ms/step - loss: 1.8917 - mae: 1.8917 - mse: 8.7560 - val_loss: 1.6353 - val_mae: 1.6353 - val_mse: 6.7136\n",
            "Epoch 223/300\n",
            "10/10 [==============================] - 0s 4ms/step - loss: 1.8916 - mae: 1.8916 - mse: 8.7556 - val_loss: 1.6345 - val_mae: 1.6345 - val_mse: 6.7102\n",
            "Epoch 224/300\n",
            "10/10 [==============================] - 0s 4ms/step - loss: 1.8914 - mae: 1.8914 - mse: 8.7518 - val_loss: 1.6343 - val_mae: 1.6343 - val_mse: 6.7087\n",
            "Epoch 225/300\n",
            "10/10 [==============================] - 0s 4ms/step - loss: 1.8916 - mae: 1.8916 - mse: 8.7546 - val_loss: 1.6352 - val_mae: 1.6352 - val_mse: 6.7121\n",
            "Epoch 226/300\n",
            "10/10 [==============================] - 0s 4ms/step - loss: 1.8913 - mae: 1.8913 - mse: 8.7523 - val_loss: 1.6341 - val_mae: 1.6341 - val_mse: 6.7075\n",
            "Epoch 227/300\n",
            "10/10 [==============================] - 0s 4ms/step - loss: 1.8916 - mae: 1.8916 - mse: 8.7524 - val_loss: 1.6348 - val_mae: 1.6348 - val_mse: 6.7098\n",
            "Epoch 228/300\n",
            "10/10 [==============================] - 0s 4ms/step - loss: 1.8913 - mae: 1.8913 - mse: 8.7497 - val_loss: 1.6337 - val_mae: 1.6337 - val_mse: 6.7048\n",
            "Epoch 229/300\n",
            "10/10 [==============================] - 0s 4ms/step - loss: 1.8913 - mae: 1.8913 - mse: 8.7496 - val_loss: 1.6344 - val_mae: 1.6344 - val_mse: 6.7075\n",
            "Epoch 230/300\n",
            "10/10 [==============================] - 0s 4ms/step - loss: 1.8912 - mae: 1.8912 - mse: 8.7505 - val_loss: 1.6341 - val_mae: 1.6341 - val_mse: 6.7058\n",
            "Epoch 231/300\n",
            "10/10 [==============================] - 0s 3ms/step - loss: 1.8912 - mae: 1.8912 - mse: 8.7469 - val_loss: 1.6335 - val_mae: 1.6335 - val_mse: 6.7027\n",
            "Epoch 232/300\n",
            "10/10 [==============================] - 0s 3ms/step - loss: 1.8911 - mae: 1.8911 - mse: 8.7465 - val_loss: 1.6341 - val_mae: 1.6341 - val_mse: 6.7050\n",
            "Epoch 233/300\n",
            "10/10 [==============================] - 0s 4ms/step - loss: 1.8910 - mae: 1.8910 - mse: 8.7488 - val_loss: 1.6345 - val_mae: 1.6345 - val_mse: 6.7062\n",
            "Epoch 234/300\n",
            "10/10 [==============================] - 0s 3ms/step - loss: 1.8911 - mae: 1.8911 - mse: 8.7512 - val_loss: 1.6348 - val_mae: 1.6348 - val_mse: 6.7070\n",
            "Epoch 235/300\n",
            "10/10 [==============================] - 0s 4ms/step - loss: 1.8913 - mae: 1.8913 - mse: 8.7458 - val_loss: 1.6327 - val_mae: 1.6327 - val_mse: 6.6978\n",
            "Epoch 236/300\n",
            "10/10 [==============================] - 0s 4ms/step - loss: 1.8910 - mae: 1.8910 - mse: 8.7423 - val_loss: 1.6334 - val_mae: 1.6334 - val_mse: 6.7005\n",
            "Epoch 237/300\n",
            "10/10 [==============================] - 0s 3ms/step - loss: 1.8910 - mae: 1.8910 - mse: 8.7434 - val_loss: 1.6338 - val_mae: 1.6338 - val_mse: 6.7020\n",
            "Epoch 238/300\n",
            "10/10 [==============================] - 0s 4ms/step - loss: 1.8907 - mae: 1.8907 - mse: 8.7464 - val_loss: 1.6346 - val_mae: 1.6346 - val_mse: 6.7046\n",
            "Epoch 239/300\n",
            "10/10 [==============================] - 0s 5ms/step - loss: 1.8909 - mae: 1.8909 - mse: 8.7493 - val_loss: 1.6352 - val_mae: 1.6352 - val_mse: 6.7068\n",
            "Epoch 240/300\n",
            "10/10 [==============================] - 0s 4ms/step - loss: 1.8909 - mae: 1.8909 - mse: 8.7467 - val_loss: 1.6336 - val_mae: 1.6336 - val_mse: 6.6996\n",
            "Epoch 241/300\n",
            "10/10 [==============================] - 0s 5ms/step - loss: 1.8909 - mae: 1.8909 - mse: 8.7417 - val_loss: 1.6329 - val_mae: 1.6329 - val_mse: 6.6965\n",
            "Epoch 242/300\n",
            "10/10 [==============================] - 0s 4ms/step - loss: 1.8909 - mae: 1.8909 - mse: 8.7446 - val_loss: 1.6352 - val_mae: 1.6352 - val_mse: 6.7052\n",
            "Epoch 243/300\n",
            "10/10 [==============================] - 0s 4ms/step - loss: 1.8907 - mae: 1.8907 - mse: 8.7465 - val_loss: 1.6340 - val_mae: 1.6340 - val_mse: 6.7003\n",
            "Epoch 244/300\n",
            "10/10 [==============================] - 0s 5ms/step - loss: 1.8908 - mae: 1.8908 - mse: 8.7416 - val_loss: 1.6332 - val_mae: 1.6332 - val_mse: 6.6964\n",
            "Epoch 245/300\n",
            "10/10 [==============================] - 0s 4ms/step - loss: 1.8905 - mae: 1.8905 - mse: 8.7419 - val_loss: 1.6343 - val_mae: 1.6343 - val_mse: 6.7006\n",
            "Epoch 246/300\n",
            "10/10 [==============================] - 0s 4ms/step - loss: 1.8905 - mae: 1.8905 - mse: 8.7446 - val_loss: 1.6343 - val_mae: 1.6343 - val_mse: 6.7004\n",
            "Epoch 247/300\n",
            "10/10 [==============================] - 0s 5ms/step - loss: 1.8904 - mae: 1.8904 - mse: 8.7430 - val_loss: 1.6334 - val_mae: 1.6334 - val_mse: 6.6960\n",
            "Epoch 248/300\n",
            "10/10 [==============================] - 0s 3ms/step - loss: 1.8904 - mae: 1.8904 - mse: 8.7393 - val_loss: 1.6330 - val_mae: 1.6330 - val_mse: 6.6942\n",
            "Epoch 249/300\n",
            "10/10 [==============================] - 0s 4ms/step - loss: 1.8904 - mae: 1.8904 - mse: 8.7406 - val_loss: 1.6340 - val_mae: 1.6340 - val_mse: 6.6979\n",
            "Epoch 250/300\n",
            "10/10 [==============================] - 0s 4ms/step - loss: 1.8906 - mae: 1.8906 - mse: 8.7411 - val_loss: 1.6328 - val_mae: 1.6328 - val_mse: 6.6921\n",
            "Epoch 251/300\n",
            "10/10 [==============================] - 0s 4ms/step - loss: 1.8903 - mae: 1.8903 - mse: 8.7394 - val_loss: 1.6342 - val_mae: 1.6342 - val_mse: 6.6980\n",
            "Epoch 252/300\n",
            "10/10 [==============================] - 0s 3ms/step - loss: 1.8902 - mae: 1.8902 - mse: 8.7417 - val_loss: 1.6337 - val_mae: 1.6337 - val_mse: 6.6953\n",
            "Epoch 253/300\n",
            "10/10 [==============================] - 0s 4ms/step - loss: 1.8902 - mae: 1.8902 - mse: 8.7375 - val_loss: 1.6334 - val_mae: 1.6334 - val_mse: 6.6939\n",
            "Epoch 254/300\n",
            "10/10 [==============================] - 0s 4ms/step - loss: 1.8902 - mae: 1.8902 - mse: 8.7373 - val_loss: 1.6335 - val_mae: 1.6335 - val_mse: 6.6937\n",
            "Epoch 255/300\n",
            "10/10 [==============================] - 0s 4ms/step - loss: 1.8903 - mae: 1.8903 - mse: 8.7430 - val_loss: 1.6349 - val_mae: 1.6349 - val_mse: 6.6988\n",
            "Epoch 256/300\n",
            "10/10 [==============================] - 0s 4ms/step - loss: 1.8902 - mae: 1.8902 - mse: 8.7411 - val_loss: 1.6331 - val_mae: 1.6331 - val_mse: 6.6910\n",
            "Epoch 257/300\n",
            "10/10 [==============================] - 0s 4ms/step - loss: 1.8900 - mae: 1.8900 - mse: 8.7355 - val_loss: 1.6332 - val_mae: 1.6332 - val_mse: 6.6913\n",
            "Epoch 258/300\n",
            "10/10 [==============================] - 0s 4ms/step - loss: 1.8899 - mae: 1.8899 - mse: 8.7364 - val_loss: 1.6337 - val_mae: 1.6337 - val_mse: 6.6930\n",
            "Epoch 259/300\n",
            "10/10 [==============================] - 0s 3ms/step - loss: 1.8901 - mae: 1.8901 - mse: 8.7400 - val_loss: 1.6342 - val_mae: 1.6342 - val_mse: 6.6943\n",
            "Epoch 260/300\n",
            "10/10 [==============================] - 0s 4ms/step - loss: 1.8902 - mae: 1.8902 - mse: 8.7414 - val_loss: 1.6342 - val_mae: 1.6342 - val_mse: 6.6938\n",
            "Epoch 261/300\n",
            "10/10 [==============================] - 0s 4ms/step - loss: 1.8897 - mae: 1.8897 - mse: 8.7346 - val_loss: 1.6327 - val_mae: 1.6327 - val_mse: 6.6872\n",
            "Epoch 262/300\n",
            "10/10 [==============================] - 0s 4ms/step - loss: 1.8897 - mae: 1.8897 - mse: 8.7327 - val_loss: 1.6331 - val_mae: 1.6331 - val_mse: 6.6884\n",
            "Epoch 263/300\n",
            "10/10 [==============================] - 0s 5ms/step - loss: 1.8897 - mae: 1.8897 - mse: 8.7363 - val_loss: 1.6338 - val_mae: 1.6338 - val_mse: 6.6912\n",
            "Epoch 264/300\n",
            "10/10 [==============================] - 0s 4ms/step - loss: 1.8896 - mae: 1.8896 - mse: 8.7338 - val_loss: 1.6328 - val_mae: 1.6328 - val_mse: 6.6864\n",
            "Epoch 265/300\n",
            "10/10 [==============================] - 0s 4ms/step - loss: 1.8898 - mae: 1.8898 - mse: 8.7292 - val_loss: 1.6321 - val_mae: 1.6321 - val_mse: 6.6829\n",
            "Epoch 266/300\n",
            "10/10 [==============================] - 0s 4ms/step - loss: 1.8896 - mae: 1.8896 - mse: 8.7314 - val_loss: 1.6334 - val_mae: 1.6334 - val_mse: 6.6880\n",
            "Epoch 267/300\n",
            "10/10 [==============================] - 0s 4ms/step - loss: 1.8895 - mae: 1.8895 - mse: 8.7318 - val_loss: 1.6331 - val_mae: 1.6331 - val_mse: 6.6866\n",
            "Epoch 268/300\n",
            "10/10 [==============================] - 0s 4ms/step - loss: 1.8895 - mae: 1.8895 - mse: 8.7329 - val_loss: 1.6332 - val_mae: 1.6332 - val_mse: 6.6863\n",
            "Epoch 269/300\n",
            "10/10 [==============================] - 0s 4ms/step - loss: 1.8893 - mae: 1.8893 - mse: 8.7315 - val_loss: 1.6330 - val_mae: 1.6330 - val_mse: 6.6854\n",
            "Epoch 270/300\n",
            "10/10 [==============================] - 0s 5ms/step - loss: 1.8894 - mae: 1.8894 - mse: 8.7319 - val_loss: 1.6328 - val_mae: 1.6328 - val_mse: 6.6840\n",
            "Epoch 271/300\n",
            "10/10 [==============================] - 0s 4ms/step - loss: 1.8893 - mae: 1.8893 - mse: 8.7293 - val_loss: 1.6328 - val_mae: 1.6328 - val_mse: 6.6832\n",
            "Epoch 272/300\n",
            "10/10 [==============================] - 0s 3ms/step - loss: 1.8895 - mae: 1.8895 - mse: 8.7326 - val_loss: 1.6341 - val_mae: 1.6341 - val_mse: 6.6881\n",
            "Epoch 273/300\n",
            "10/10 [==============================] - 0s 4ms/step - loss: 1.8892 - mae: 1.8892 - mse: 8.7316 - val_loss: 1.6327 - val_mae: 1.6327 - val_mse: 6.6821\n",
            "Epoch 274/300\n",
            "10/10 [==============================] - 0s 3ms/step - loss: 1.8891 - mae: 1.8891 - mse: 8.7280 - val_loss: 1.6330 - val_mae: 1.6330 - val_mse: 6.6829\n",
            "Epoch 275/300\n",
            "10/10 [==============================] - 0s 4ms/step - loss: 1.8894 - mae: 1.8894 - mse: 8.7280 - val_loss: 1.6324 - val_mae: 1.6324 - val_mse: 6.6797\n",
            "Epoch 276/300\n",
            "10/10 [==============================] - 0s 5ms/step - loss: 1.8890 - mae: 1.8890 - mse: 8.7270 - val_loss: 1.6333 - val_mae: 1.6333 - val_mse: 6.6830\n",
            "Epoch 277/300\n",
            "10/10 [==============================] - 0s 4ms/step - loss: 1.8890 - mae: 1.8890 - mse: 8.7283 - val_loss: 1.6332 - val_mae: 1.6332 - val_mse: 6.6824\n",
            "Epoch 278/300\n",
            "10/10 [==============================] - 0s 4ms/step - loss: 1.8890 - mae: 1.8890 - mse: 8.7298 - val_loss: 1.6333 - val_mae: 1.6333 - val_mse: 6.6824\n",
            "Epoch 279/300\n",
            "10/10 [==============================] - 0s 4ms/step - loss: 1.8891 - mae: 1.8891 - mse: 8.7250 - val_loss: 1.6320 - val_mae: 1.6320 - val_mse: 6.6765\n",
            "Epoch 280/300\n",
            "10/10 [==============================] - 0s 4ms/step - loss: 1.8889 - mae: 1.8889 - mse: 8.7249 - val_loss: 1.6333 - val_mae: 1.6333 - val_mse: 6.6814\n",
            "Epoch 281/300\n",
            "10/10 [==============================] - 0s 4ms/step - loss: 1.8888 - mae: 1.8888 - mse: 8.7261 - val_loss: 1.6328 - val_mae: 1.6328 - val_mse: 6.6789\n",
            "Epoch 282/300\n",
            "10/10 [==============================] - 0s 4ms/step - loss: 1.8888 - mae: 1.8888 - mse: 8.7232 - val_loss: 1.6318 - val_mae: 1.6318 - val_mse: 6.6741\n",
            "Epoch 283/300\n",
            "10/10 [==============================] - 0s 4ms/step - loss: 1.8887 - mae: 1.8887 - mse: 8.7213 - val_loss: 1.6327 - val_mae: 1.6327 - val_mse: 6.6774\n",
            "Epoch 284/300\n",
            "10/10 [==============================] - 0s 4ms/step - loss: 1.8886 - mae: 1.8886 - mse: 8.7251 - val_loss: 1.6328 - val_mae: 1.6328 - val_mse: 6.6775\n",
            "Epoch 285/300\n",
            "10/10 [==============================] - 0s 4ms/step - loss: 1.8885 - mae: 1.8885 - mse: 8.7241 - val_loss: 1.6323 - val_mae: 1.6323 - val_mse: 6.6748\n",
            "Epoch 286/300\n",
            "10/10 [==============================] - 0s 4ms/step - loss: 1.8885 - mae: 1.8885 - mse: 8.7206 - val_loss: 1.6318 - val_mae: 1.6318 - val_mse: 6.6722\n",
            "Epoch 287/300\n",
            "10/10 [==============================] - 0s 4ms/step - loss: 1.8884 - mae: 1.8884 - mse: 8.7193 - val_loss: 1.6324 - val_mae: 1.6324 - val_mse: 6.6741\n",
            "Epoch 288/300\n",
            "10/10 [==============================] - 0s 4ms/step - loss: 1.8883 - mae: 1.8883 - mse: 8.7221 - val_loss: 1.6331 - val_mae: 1.6331 - val_mse: 6.6768\n",
            "Epoch 289/300\n",
            "10/10 [==============================] - 0s 4ms/step - loss: 1.8884 - mae: 1.8884 - mse: 8.7210 - val_loss: 1.6318 - val_mae: 1.6318 - val_mse: 6.6709\n",
            "Epoch 290/300\n",
            "10/10 [==============================] - 0s 4ms/step - loss: 1.8883 - mae: 1.8883 - mse: 8.7192 - val_loss: 1.6327 - val_mae: 1.6327 - val_mse: 6.6742\n",
            "Epoch 291/300\n",
            "10/10 [==============================] - 0s 4ms/step - loss: 1.8885 - mae: 1.8885 - mse: 8.7230 - val_loss: 1.6331 - val_mae: 1.6331 - val_mse: 6.6753\n",
            "Epoch 292/300\n",
            "10/10 [==============================] - 0s 4ms/step - loss: 1.8881 - mae: 1.8881 - mse: 8.7192 - val_loss: 1.6318 - val_mae: 1.6318 - val_mse: 6.6695\n",
            "Epoch 293/300\n",
            "10/10 [==============================] - 0s 5ms/step - loss: 1.8882 - mae: 1.8882 - mse: 8.7147 - val_loss: 1.6311 - val_mae: 1.6311 - val_mse: 6.6657\n",
            "Epoch 294/300\n",
            "10/10 [==============================] - 0s 4ms/step - loss: 1.8881 - mae: 1.8881 - mse: 8.7164 - val_loss: 1.6321 - val_mae: 1.6321 - val_mse: 6.6698\n",
            "Epoch 295/300\n",
            "10/10 [==============================] - 0s 4ms/step - loss: 1.8881 - mae: 1.8881 - mse: 8.7163 - val_loss: 1.6318 - val_mae: 1.6318 - val_mse: 6.6680\n",
            "Epoch 296/300\n",
            "10/10 [==============================] - 0s 3ms/step - loss: 1.8879 - mae: 1.8879 - mse: 8.7160 - val_loss: 1.6324 - val_mae: 1.6324 - val_mse: 6.6701\n",
            "Epoch 297/300\n",
            "10/10 [==============================] - 0s 4ms/step - loss: 1.8879 - mae: 1.8879 - mse: 8.7189 - val_loss: 1.6325 - val_mae: 1.6325 - val_mse: 6.6700\n",
            "Epoch 298/300\n",
            "10/10 [==============================] - 0s 3ms/step - loss: 1.8879 - mae: 1.8879 - mse: 8.7165 - val_loss: 1.6315 - val_mae: 1.6315 - val_mse: 6.6652\n",
            "Epoch 299/300\n",
            "10/10 [==============================] - 0s 3ms/step - loss: 1.8879 - mae: 1.8879 - mse: 8.7159 - val_loss: 1.6318 - val_mae: 1.6318 - val_mse: 6.6661\n",
            "Epoch 300/300\n",
            "10/10 [==============================] - 0s 3ms/step - loss: 1.8877 - mae: 1.8877 - mse: 8.7145 - val_loss: 1.6321 - val_mae: 1.6321 - val_mse: 6.6670\n"
          ],
          "name": "stdout"
        }
      ]
    },
    {
      "cell_type": "code",
      "metadata": {
        "id": "6zYkLGS6wQyy",
        "colab": {
          "base_uri": "https://localhost:8080/"
        },
        "outputId": "3a29948c-043e-48c7-aeef-3f1dcbe2ce24"
      },
      "source": [
        "print(history)"
      ],
      "execution_count": null,
      "outputs": [
        {
          "output_type": "stream",
          "text": [
            "<tensorflow.python.keras.callbacks.History object at 0x7fb570c1a310>\n"
          ],
          "name": "stdout"
        }
      ]
    },
    {
      "cell_type": "code",
      "metadata": {
        "colab": {
          "base_uri": "https://localhost:8080/"
        },
        "id": "1lsbk_ohAu1j",
        "outputId": "dc555901-2477-4936-bc57-14bcc983b46b"
      },
      "source": [
        "model.summary()"
      ],
      "execution_count": null,
      "outputs": [
        {
          "output_type": "stream",
          "text": [
            "Model: \"sequential_3\"\n",
            "_________________________________________________________________\n",
            "Layer (type)                 Output Shape              Param #   \n",
            "=================================================================\n",
            "dense_3 (Dense)              (None, 1)                 2         \n",
            "=================================================================\n",
            "Total params: 2\n",
            "Trainable params: 2\n",
            "Non-trainable params: 0\n",
            "_________________________________________________________________\n"
          ],
          "name": "stdout"
        }
      ]
    },
    {
      "cell_type": "code",
      "metadata": {
        "colab": {
          "base_uri": "https://localhost:8080/"
        },
        "id": "P6VnkPim7tH7",
        "outputId": "d558c2e0-638e-4ac5-a3bd-2d65d0a60fec"
      },
      "source": [
        "# tempString = 'mse'\n",
        "def curvePlots(tempString):\n",
        "  plt.plot(history.history[tempString])\n",
        "  plt.plot(history.history[f'val_{tempString}'])\n",
        "  plt.xlabel('NumEpochs')\n",
        "  plt.ylabel(tempString)\n",
        "  plt.legend([tempString, f'val_{tempString}'])\n",
        "  plt.show()\n",
        "\n",
        "\n",
        "curvePlots('mse')\n",
        "curvePlots('mae')\n",
        "curvePlots('loss')"
      ],
      "execution_count": null,
      "outputs": [
        {
          "output_type": "display_data",
          "data": {
            "image/png": "[encoded data removed]",
            "text/plain": [
              "<Figure size 576x396 with 1 Axes>"
            ]
          },
          "metadata": {
            "tags": []
          }
        },
        {
          "output_type": "display_data",
          "data": {
            "image/png": "[encoded data removed]",
            "text/plain": [
              "<Figure size 576x396 with 1 Axes>"
            ]
          },
          "metadata": {
            "tags": []
          }
        },
        {
          "output_type": "display_data",
          "data": {
            "image/png": "[encoded data removed]",
            "text/plain": [
              "<Figure size 576x396 with 1 Axes>"
            ]
          },
          "metadata": {
            "tags": []
          }
        }
      ]
    },
    {
      "cell_type": "code",
      "metadata": {
        "id": "esW0eHQbzoj4",
        "colab": {
          "base_uri": "https://localhost:8080/"
        },
        "outputId": "2a5cd783-7a73-4edd-9868-3e664f129640"
      },
      "source": [
        "model.predict([1])"
      ],
      "execution_count": null,
      "outputs": [
        {
          "output_type": "execute_result",
          "data": {
            "text/plain": [
              "array([[2.0737016]], dtype=float32)"
            ]
          },
          "metadata": {
            "tags": []
          },
          "execution_count": 127
        }
      ]
    },
    {
      "cell_type": "code",
      "metadata": {
        "colab": {
          "base_uri": "https://localhost:8080/"
        },
        "id": "KJrLWamX8Tg-",
        "outputId": "a27ba885-bdff-4196-eb5a-eadfd2b2dd45"
      },
      "source": [
        "# testPreds = model.predict(testFeatures).flatten() #array of all prediction values\n",
        "\n",
        "#for single values\n",
        "\n",
        "print(f'Prediction for input value 1: {model.predict([1])}')\n",
        "\n",
        "\n",
        "# for a list of values\n",
        "tempListforPreds = [1,2,3,4,5]\n",
        "print(f'''\n",
        "\n",
        "input List = {tempListforPreds}\n",
        "\n",
        "\n",
        "List of Predictions:\n",
        "{model.predict(tempListforPreds)}\n",
        "\n",
        "List of Predictions (flattened out):\n",
        "{model.predict(tempListforPreds).flatten()}\n",
        "''')"
      ],
      "execution_count": null,
      "outputs": [
        {
          "output_type": "stream",
          "text": [
            "Prediction for input value 1: [[2.0737016]]\n",
            "\n",
            "\n",
            "input List = [1, 2, 3, 4, 5]\n",
            "\n",
            "\n",
            "List of Predictions:\n",
            "[[2.0737016]\n",
            " [2.9761503]\n",
            " [3.8785987]\n",
            " [4.7810473]\n",
            " [5.683496 ]]\n",
            "\n",
            "List of Predictions (flattened out):\n",
            "[2.0737016 2.9761503 3.8785987 4.7810473 5.683496 ]\n",
            "\n"
          ],
          "name": "stdout"
        }
      ]
    },
    {
      "cell_type": "code",
      "metadata": {
        "id": "vJNFh6hc0K6r",
        "colab": {
          "base_uri": "https://localhost:8080/"
        },
        "outputId": "6f536072-fea1-41f0-efa9-88b32c711a74"
      },
      "source": [
        "print(testFeatures)"
      ],
      "execution_count": null,
      "outputs": [
        {
          "output_type": "stream",
          "text": [
            "     G1\n",
            "9    14\n",
            "25    6\n",
            "28   11\n",
            "31   17\n",
            "32   17\n",
            "..   ..\n",
            "365  10\n",
            "367   7\n",
            "379  10\n",
            "381   7\n",
            "393  11\n",
            "\n",
            "[79 rows x 1 columns]\n"
          ],
          "name": "stdout"
        }
      ]
    },
    {
      "cell_type": "code",
      "metadata": {
        "id": "MniGZOu50IyN"
      },
      "source": [
        "testPreds = model.predict(testFeatures).flatten() #array of all prediction values"
      ],
      "execution_count": null,
      "outputs": []
    },
    {
      "cell_type": "code",
      "metadata": {
        "id": "du0Orwu40Qan",
        "colab": {
          "base_uri": "https://localhost:8080/"
        },
        "outputId": "f5eb50b8-29c3-460e-9f71-c4995948cf6e"
      },
      "source": [
        "print(len(testPreds))\n",
        "print(testPreds)"
      ],
      "execution_count": null,
      "outputs": [
        {
          "output_type": "stream",
          "text": [
            "79\n",
            "[13.805533   6.5859447 11.098187  16.512878  16.512878  12.000636\n",
            " 13.805533  18.317776  18.317776   8.3908415 13.805533  12.903085\n",
            "  8.3908415  7.4883933  9.29329   12.903085  11.098187  15.610431\n",
            "  7.4883933 10.195739  14.707982  12.903085  13.805533  15.610431\n",
            "  7.4883933  7.4883933  8.3908415 10.195739  12.000636  10.195739\n",
            " 12.000636  12.903085  10.195739   6.5859447  9.29329   12.000636\n",
            "  7.4883933  8.3908415 13.805533   9.29329    9.29329    7.4883933\n",
            " 12.000636   6.5859447 12.903085   7.4883933  7.4883933 11.098187\n",
            " 12.903085  16.512878  12.000636  14.707982   9.29329   12.000636\n",
            " 14.707982  12.000636  14.707982  12.000636  14.707982  11.098187\n",
            " 12.000636   8.3908415 15.610431   7.4883933 15.610431  11.098187\n",
            " 15.610431  12.903085   8.3908415  8.3908415 12.000636  17.415327\n",
            " 12.903085  15.610431  10.195739   7.4883933 10.195739   7.4883933\n",
            " 11.098187 ]\n"
          ],
          "name": "stdout"
        }
      ]
    },
    {
      "cell_type": "code",
      "metadata": {
        "colab": {
          "base_uri": "https://localhost:8080/"
        },
        "id": "EfP8bB_v89Wa",
        "outputId": "c63b6e6d-694b-4f66-a77d-9c8422d408e0"
      },
      "source": [
        "# prediciton plot --> how well is your model predicting across the actual labels\n",
        "\n",
        "def predPlot(labels, predictions):\n",
        "  plt.scatter(labels, predictions)\n",
        "  plt.ylabel('Predictions')\n",
        "  plt.xlabel('True Value or Labels')\n",
        "  plt.axis('equal')\n",
        "  plt.axis('square')\n",
        "  plt.xlim([0, plt.xlim()[1]])\n",
        "  plt.ylim([0, plt.ylim()[1]])\n",
        "  plt.show()\n",
        "\n",
        "predPlot(testLabels, testPreds)"
      ],
      "execution_count": null,
      "outputs": [
        {
          "output_type": "display_data",
          "data": {
            "image/png": "[encoded data removed]",
            "text/plain": [
              "<Figure size 576x396 with 1 Axes>"
            ]
          },
          "metadata": {
            "tags": []
          }
        }
      ]
    },
    {
      "cell_type": "code",
      "metadata": {
        "colab": {
          "base_uri": "https://localhost:8080/"
        },
        "id": "70608Z0o9tWL",
        "outputId": "ea930e3d-5e3d-4c60-9737-358dd4f7d646"
      },
      "source": [
        "#error plot --> gaussian distribution \n",
        "\n",
        "def errorPlot(preds, labels, counts):\n",
        "  errors = preds - labels\n",
        "  plt.hist(errors, counts)\n",
        "  plt.xlabel('Error')\n",
        "  plt.ylabel('Counts')\n",
        "  plt.show()\n",
        "\n",
        "errorPlot(testPreds, testLabels, numEpochs)"
      ],
      "execution_count": null,
      "outputs": [
        {
          "output_type": "display_data",
          "data": {
            "image/png": "[encoded data removed]",
            "text/plain": [
              "<Figure size 576x396 with 1 Axes>"
            ]
          },
          "metadata": {
            "tags": []
          }
        }
      ]
    },
    {
      "cell_type": "markdown",
      "metadata": {
        "id": "oshf2mUG1vPk"
      },
      "source": [
        "Note: \n",
        "\n",
        "\n",
        "Validation loss `val_loss` is a metric that tells you how much deviation from the actual label can you expect in the predicted label\n",
        "\n",
        "To optimize your predicitons -->\n",
        "\n",
        "- Hyperparameter tuning --> `numEpochs`, `optimizer`, `learning_rate`, lossFunctions"
      ]
    }
  ]
}